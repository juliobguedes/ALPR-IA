{
 "cells": [
  {
   "cell_type": "code",
   "execution_count": null,
   "metadata": {},
   "outputs": [],
   "source": [
    "import sys\n",
    "print(sys.version)"
   ]
  },
  {
   "cell_type": "code",
   "execution_count": null,
   "metadata": {},
   "outputs": [],
   "source": [
    "import cv2\n",
    "\n",
    "import matplotlib as mpl\n",
    "from matplotlib import pyplot as plt\n",
    "%matplotlib inline\n",
    "\n",
    "import numpy as np\n",
    "import pandas as pd\n",
    "\n",
    "import os, json, itertools"
   ]
  },
  {
   "cell_type": "code",
   "execution_count": null,
   "metadata": {},
   "outputs": [],
   "source": [
    "from classes.Image import Image\n",
    "from classes.FilterSequence import FilterSequence\n",
    "from classes.PipelineStream import PipelineStream"
   ]
  },
  {
   "cell_type": "code",
   "execution_count": null,
   "metadata": {},
   "outputs": [],
   "source": [
    "imagepath = '../../dataset/training/'\n",
    "datapath = '../data/'"
   ]
  },
  {
   "cell_type": "code",
   "execution_count": null,
   "metadata": {},
   "outputs": [],
   "source": [
    "imagens_originais = []\n",
    "imagens_grayscale = []\n",
    "\n",
    "arq_imagens = []\n",
    "ext_imagens = []\n",
    "\n",
    "for folder in os.listdir(imagepath):\n",
    "    fpath = imagepath + folder + '/'\n",
    "    cfolder = [c for c in os.listdir(fpath) if c.endswith(\"[01].png\")]\n",
    "    arq_imagens.extend([fpath + png for png in cfolder])\n",
    "    ext_imagens.extend([nn.replace(\".png\", \"\") for nn in cfolder])\n",
    "\n",
    "arq_imagens.sort()\n",
    "ext_imagens.sort()\n",
    "    \n",
    "for i in range(len(arq_imagens)):\n",
    "  aimg = arq_imagens[i]\n",
    "  img = cv2.imread(aimg)\n",
    "  imagens_originais.append(img)\n",
    "  imagens_grayscale.append(cv2.cvtColor(img, cv2.COLOR_RGB2GRAY))"
   ]
  },
  {
   "cell_type": "code",
   "execution_count": null,
   "metadata": {},
   "outputs": [],
   "source": [
    "plt.figure(figsize=(30,12))\n",
    "plt.imshow(imagens_grayscale[0], cmap=\"gray\")\n",
    "plt.tick_params(bottom=False, labelbottom=False, left=False, labelleft=False)"
   ]
  },
  {
   "cell_type": "code",
   "execution_count": null,
   "metadata": {},
   "outputs": [],
   "source": [
    "teste = imagens_grayscale[1]\n",
    "\n",
    "plt.figure(figsize=(20, 10))\n",
    "plt.subplot(2,3,1)\n",
    "plt.title(\"Original\")\n",
    "plt.imshow(teste, cmap=\"gray\")\n",
    "\n",
    "nbins = 64\n",
    "h, bin_edges = np.histogram(teste.ravel(), nbins, (0, 255))\n",
    "w = 256./nbins\n",
    "\n",
    "bin_centers = bin_edges[1:] - (w/2)\n",
    "plt.subplot(2,3,4)\n",
    "plt.title(\"Histograma Original\")\n",
    "plt.bar(bin_centers, h, width=w)\n",
    "\n",
    "###################################################################\n",
    "\n",
    "plt.subplot(2,3,2)\n",
    "teste_media = cv2.blur(teste, (5,5))\n",
    "plt.title(\"Filtro de média\")\n",
    "plt.imshow(teste_media, cmap=\"gray\")\n",
    "\n",
    "nbins = 64\n",
    "h, bin_edges = np.histogram(teste_media.ravel(), nbins, (0, 255))\n",
    "w = 256 / nbins\n",
    "\n",
    "bin_centers = bin_edges[1:] - (w/2)\n",
    "plt.subplot(2,3,5)\n",
    "plt.title(\"Histograma de média\")\n",
    "plt.bar(bin_centers, h, width=w)\n",
    "\n",
    "###################################################################\n",
    "\n",
    "plt.subplot(2,3,3)\n",
    "teste_eql = cv2.equalizeHist(teste_media, (5,5))\n",
    "plt.title(\"Imagem Equalizada\")\n",
    "plt.imshow(teste_eql, cmap=\"gray\")\n",
    "\n",
    "nbins = 64\n",
    "h, bin_edges = np.histogram(teste_eql.ravel(), nbins, (0, 255))\n",
    "w = 256 / nbins\n",
    "\n",
    "bin_centers = bin_edges[1:] - (w/2)\n",
    "plt.subplot(2,3,6)\n",
    "plt.title(\"Histograma Equalizado\")\n",
    "plt.bar(bin_centers, h, width=w)"
   ]
  },
  {
   "cell_type": "code",
   "execution_count": null,
   "metadata": {},
   "outputs": [],
   "source": [
    "plt.figure(figsize=(30,12))\n",
    "plt.imshow(teste, cmap=\"gray\")\n",
    "plt.tick_params(bottom=False, labelbottom=False, left=False, labelleft=False)"
   ]
  },
  {
   "cell_type": "code",
   "execution_count": null,
   "metadata": {},
   "outputs": [],
   "source": [
    "laplacian = cv2.Laplacian(teste_eql, cv2.CV_64F)\n",
    "laplacian = cv2.normalize(laplacian, None, alpha = 0, beta = 255,\n",
    "                          norm_type = cv2.NORM_MINMAX, dtype = cv2.CV_8U)"
   ]
  },
  {
   "cell_type": "code",
   "execution_count": null,
   "metadata": {},
   "outputs": [],
   "source": [
    "kernelx = np.array([[1,1,1], [0,0,0], [-1, -1, -1]])\n",
    "kernely = np.array([[-1,0,1], [-1,0,1], [-1, 0, 1]])\n",
    "img_prewittx = cv2.filter2D(teste_eql, -1, kernelx)\n",
    "img_prewitty = cv2.filter2D(teste_eql, -1, kernely)"
   ]
  },
  {
   "cell_type": "code",
   "execution_count": null,
   "metadata": {},
   "outputs": [],
   "source": [
    "sobelx = cv2.Sobel(teste_eql, cv2.CV_64F, 1, 0, ksize=3)\n",
    "sobely = cv2.Sobel(teste_eql, cv2.CV_64F, 0, 1, ksize=3)\n",
    "t1, t2 = np.uint8(np.absolute(sobelx)), np.uint8(np.absolute(sobely))\n",
    "true_sobel = cv2.bitwise_or(t1, t2)\n",
    "sobel_mag = (sobelx**2 + sobely**2) ** 0.5\n",
    "sobel_ang = np.rad2deg(np.angle(sobelx+sobely*1j))\n",
    "sobel_ang = (sobel_ang >= 0) * sobel_ang + (sobel_ang < 0) * (sobel_ang + 180)\n",
    "sobel_ang = (sobel_ang < 180) * sobel_ang"
   ]
  },
  {
   "cell_type": "code",
   "execution_count": null,
   "metadata": {},
   "outputs": [],
   "source": [
    "sobelxn = cv2.normalize(sobelx, None, alpha = 0, beta = 255,\n",
    "                          norm_type = cv2.NORM_MINMAX, dtype = cv2.CV_8U)\n",
    "sobelyn = cv2.normalize(sobely, None, alpha = 0, beta = 255,\n",
    "                          norm_type = cv2.NORM_MINMAX, dtype = cv2.CV_8U)\n",
    "sobel_magn = cv2.normalize(sobel_mag, None, alpha = 0, beta = 255,\n",
    "                          norm_type = cv2.NORM_MINMAX, dtype = cv2.CV_8U)\n",
    "sobel_angn = cv2.normalize(sobel_ang, None, alpha = 0, beta = 255,\n",
    "                          norm_type = cv2.NORM_MINMAX, dtype = cv2.CV_8U)"
   ]
  },
  {
   "cell_type": "code",
   "execution_count": null,
   "metadata": {},
   "outputs": [],
   "source": [
    "canny = cv2.Canny(teste_eql, 100, 300)\n",
    "\n",
    "kernel = cv2.getStructuringElement(cv2.MORPH_RECT, (5,5))\n",
    "morphg = cv2.morphologyEx(teste_eql, cv2.MORPH_GRADIENT, kernel)"
   ]
  },
  {
   "cell_type": "code",
   "execution_count": null,
   "metadata": {},
   "outputs": [],
   "source": [
    "plt.figure(figsize=(30, 12))\n",
    "\n",
    "plt.subplot(3,3,1)\n",
    "plt.imshow(laplacian, cmap=\"gray\")\n",
    "\n",
    "plt.subplot(3,3,2)\n",
    "plt.imshow(img_prewittx, cmap=\"gray\")\n",
    "\n",
    "plt.subplot(3,3,3)\n",
    "plt.imshow(img_prewitty, cmap=\"gray\")\n",
    "\n",
    "plt.subplot(3,3,4)\n",
    "plt.imshow(sobelxn, cmap=\"gray\")\n",
    "\n",
    "plt.subplot(3,3,5)\n",
    "plt.imshow(sobelyn, cmap=\"gray\")\n",
    "\n",
    "plt.subplot(3,3,6)\n",
    "plt.imshow(sobel_magn, cmap=\"gray\")\n",
    "\n",
    "plt.subplot(3,3,7)\n",
    "plt.imshow(sobel_angn, cmap=\"gray\")\n",
    "\n",
    "plt.subplot(3,3,8)\n",
    "plt.imshow(canny, cmap=\"gray\")\n",
    "\n",
    "plt.subplot(3,3,9)\n",
    "plt.imshow(morphg, cmap=\"gray\")"
   ]
  },
  {
   "cell_type": "code",
   "execution_count": null,
   "metadata": {},
   "outputs": [],
   "source": [
    "plt.figure(figsize=(30,12))\n",
    "plt.imshow(canny, cmap=\"gray\")"
   ]
  },
  {
   "cell_type": "code",
   "execution_count": null,
   "metadata": {},
   "outputs": [],
   "source": [
    "plt.figure(figsize=(30,45))\n",
    "\n",
    "for i in range(9):\n",
    "  limiar = int(255*(i+1)/10.0)\n",
    "  plt.subplot(9, 3, i*3+1)\n",
    "  _, xthr = cv2.threshold(sobelxn, limiar, 255, cv2.THRESH_BINARY)\n",
    "  plt.imshow(xthr, cmap=\"gray\")\n",
    "  plt.subplot(9, 3, (i*3)+2)\n",
    "  _, ythr = cv2.threshold(sobelxn, limiar, 255, cv2.THRESH_BINARY)\n",
    "  plt.imshow(ythr, cmap=\"gray\")\n",
    "  plt.subplot(9, 3, (i*3)+3)\n",
    "  _, mthr = cv2.threshold(sobelxn, limiar, 255, cv2.THRESH_BINARY)\n",
    "  plt.imshow(mthr, cmap=\"gray\")"
   ]
  },
  {
   "cell_type": "code",
   "execution_count": null,
   "metadata": {},
   "outputs": [],
   "source": [
    "_, xthrg = cv2.threshold(sobelxn, 0, 255, cv2.THRESH_BINARY + cv2.THRESH_OTSU)\n",
    "_, ythrg = cv2.threshold(sobelyn, 0, 255, cv2.THRESH_BINARY + cv2.THRESH_OTSU)\n",
    "_, mthrg = cv2.threshold(sobel_magn, 0, 255, cv2.THRESH_BINARY + cv2.THRESH_OTSU)\n",
    "_, true_thr = cv2.threshold(true_sobel, 0, 255, cv2.THRESH_BINARY + cv2.THRESH_OTSU)\n",
    "\n",
    "plt.figure(figsize=(30,12))\n",
    "plt.imshow(xthrg, cmap=\"gray\")\n",
    "plt.figure(figsize=(30,12))\n",
    "plt.imshow(ythrg, cmap=\"gray\")\n",
    "plt.figure(figsize=(30,12))\n",
    "plt.imshow(mthrg, cmap=\"gray\")\n",
    "plt.figure(figsize=(30,12))\n",
    "plt.imshow(true_thr, cmap=\"gray\")"
   ]
  },
  {
   "cell_type": "code",
   "execution_count": null,
   "metadata": {},
   "outputs": [],
   "source": [
    "xthr = cv2.adaptiveThreshold(sobelxn, 255, cv2.ADAPTIVE_THRESH_MEAN_C, cv2.THRESH_BINARY, 3, 0)\n",
    "ythr = cv2.adaptiveThreshold(sobelyn, 255, cv2.ADAPTIVE_THRESH_MEAN_C, cv2.THRESH_BINARY, 3, 0)\n",
    "mthr = cv2.adaptiveThreshold(sobel_magn, 255, cv2.ADAPTIVE_THRESH_MEAN_C, cv2.THRESH_BINARY, 3, 0)\n",
    "\n",
    "plt.figure(figsize=(30,12))\n",
    "plt.subplot(1,3,1)\n",
    "plt.imshow(xthr, cmap=\"gray\")\n",
    "plt.subplot(1,3,2)\n",
    "plt.imshow(ythr, cmap=\"gray\")\n",
    "plt.subplot(1,3,3)\n",
    "plt.imshow(mthr, cmap=\"gray\")"
   ]
  },
  {
   "cell_type": "code",
   "execution_count": null,
   "metadata": {},
   "outputs": [],
   "source": [
    "xthr = cv2.adaptiveThreshold(sobelxn, 255, cv2.ADAPTIVE_THRESH_GAUSSIAN_C, cv2.THRESH_BINARY, 3, 0)\n",
    "ythr = cv2.adaptiveThreshold(sobelyn, 255, cv2.ADAPTIVE_THRESH_GAUSSIAN_C, cv2.THRESH_BINARY, 3, 0)\n",
    "mthr = cv2.adaptiveThreshold(sobel_magn, 255, cv2.ADAPTIVE_THRESH_GAUSSIAN_C, cv2.THRESH_BINARY, 3, 0)\n",
    "\n",
    "plt.figure(figsize=(30,12))\n",
    "plt.subplot(1,3,1)\n",
    "plt.imshow(xthr, cmap=\"gray\")\n",
    "plt.subplot(1,3,2)\n",
    "plt.imshow(ythr, cmap=\"gray\")\n",
    "plt.subplot(1,3,3)\n",
    "plt.imshow(mthr, cmap=\"gray\")"
   ]
  },
  {
   "cell_type": "code",
   "execution_count": null,
   "metadata": {},
   "outputs": [],
   "source": [
    "kernel = cv2.getStructuringElement(cv2.MORPH_RECT, (10,8))\n",
    "morphDx = cv2.dilate(canny, kernel, 1)\n",
    "\n",
    "_, contours1, hierarch = cv2.findContours(morphDx, cv2.RETR_TREE, cv2.CHAIN_APPROX_SIMPLE)\n",
    "\n",
    "img_cont1 = cv2.cvtColor(teste_eql, cv2.COLOR_GRAY2BGR)\n",
    "cv2.drawContours(img_cont1, contours1, -1, (0, 255, 0), 3)\n",
    "plt.figure(figsize=(30,12))\n",
    "plt.imshow(img_cont1, cmap=\"gray\")"
   ]
  },
  {
   "cell_type": "code",
   "execution_count": null,
   "metadata": {},
   "outputs": [],
   "source": [
    "kernel = cv2.getStructuringElement(cv2.MORPH_RECT, (13,11))\n",
    "morphDy = cv2.dilate(ythr, kernel, 1)\n",
    "\n",
    "_, contours2, hierarch = cv2.findContours(morphDy, cv2.RETR_TREE, cv2.CHAIN_APPROX_SIMPLE)\n",
    "\n",
    "img_cont2 = cv2.cvtColor(teste, cv2.COLOR_GRAY2BGR)\n",
    "cv2.drawContours(img_cont2, contours2, -1, (0, 255, 0), 3)\n",
    "plt.figure(figsize=(30,12))\n",
    "plt.imshow(img_cont2, cmap=\"gray\")"
   ]
  },
  {
   "cell_type": "code",
   "execution_count": null,
   "metadata": {},
   "outputs": [],
   "source": [
    "kernel = cv2.getStructuringElement(cv2.MORPH_RECT, (8,9))\n",
    "morphDm = cv2.dilate(mthr, kernel, 1)\n",
    "\n",
    "_, contours3, hierarch = cv2.findContours(morphDm, cv2.RETR_TREE, cv2.CHAIN_APPROX_SIMPLE)\n",
    "\n",
    "img_cont3 = cv2.cvtColor(teste, cv2.COLOR_GRAY2BGR)\n",
    "cv2.drawContours(img_cont3, contours3, -1, (0, 255, 0), 3)\n",
    "plt.figure(figsize=(30,12))\n",
    "plt.imshow(img_cont3, cmap=\"gray\")"
   ]
  },
  {
   "cell_type": "code",
   "execution_count": null,
   "metadata": {},
   "outputs": [],
   "source": [
    "color = cv2.cvtColor(teste_eql, cv2.COLOR_GRAY2BGR)\n",
    "\n",
    "for cnt in contours1:\n",
    "  epsilon = 0.05 * cv2.arcLength(cnt, True)\n",
    "  approx = cv2.approxPolyDP(cnt,epsilon,True)\n",
    "  \n",
    "  if (len(approx) == 4):\n",
    "    x, y, w, h = cv2.boundingRect(cnt)\n",
    "    cv2.rectangle(color, (x,y), (x+w, y+h), (255, 0, 0), 2)\n",
    "    ar = 1.0 * h / 2\n",
    "\n",
    "    if (ar >= 0.3 and ar <= 20 and h * w >= 2000 and h * w <= 23000):\n",
    "      print (ar, h, w, h*w)\n",
    "      cv2.rectangle(color, (x,y),(x+w, y+h), (0, 255, 0), 8)\n",
    "      \n",
    "plt.figure(figsize=(30,12))\n",
    "plt.imshow(color, cmap=\"gray\")"
   ]
  },
  {
   "cell_type": "code",
   "execution_count": null,
   "metadata": {},
   "outputs": [],
   "source": [
    "minArea = 2700\n",
    "maxArea = 20000\n",
    "\n",
    "thrs = []\n",
    "axthrs = []\n",
    "fxthrs = []\n",
    "coloreds = []\n",
    "\n",
    "plt.figure(figsize=(30, 12))\n",
    "\n",
    "for i in range(n):\n",
    "  imgi = imagens_grayscale[i]\n",
    "  imgi_eq = cv2.equalizeHist(imgi)\n",
    "  \n",
    "  kernelTh = cv2.getStructuringElement(cv2.MORPH_RECT, (17, 17))\n",
    "  morphTh = cv2.morphologyEx(imgi_eq, cv2.MORPH_TOPHAT, kernelTh)\n",
    "  _, thr = cv2.threshold(morphTh, 0, 255, cv2.THRESH_BINARY + cv2.THRESH_OTSU)\n",
    "  \n",
    "  thrs.append(thr)\n",
    "  \n",
    "  kernelAx = cv2.getStructuringElement(cv2.MORPH_RECT, (1, 11))\n",
    "  morphAx = cv2.morphologyEx(thr, cv2.MORPH_OPEN, kernelAx)\n",
    "  _, axthr = cv2.threshold(morphAx, 0, 255, cv2.THRESH_BINARY + cv2.THRESH_OTSU)\n",
    "  \n",
    "  axthrs.append(axthr)\n",
    "  \n",
    "  kernelFx = cv2.getStructuringElement(cv2.MORPH_RECT, (23, 1))\n",
    "  morphFx = cv2.morphologyEx(morphAx, cv2.MORPH_CLOSE, kernelFx)\n",
    "  _, fxthr = cv2.threshold(morphFx, 0, 255, cv2.THRESH_BINARY + cv2.THRESH_OTSU)\n",
    "  \n",
    "  fxthrs.append(fxthr)\n",
    "\n",
    "  _, contours4, hierarch = cv2.findContours(morphFx, cv2.RETR_TREE, cv2.CHAIN_APPROX_SIMPLE)\n",
    "  color = cv2.cvtColor(imgi_eq, cv2.COLOR_GRAY2BGR)\n",
    "  \n",
    "  coloreds.append(color)\n",
    "  \n",
    "  for cnt in contours4:\n",
    "    epsilon = 0.05 * cv2.arcLength(cnt, True)\n",
    "    approx = cv2.approxPolyDP(cnt, epsilon, True)\n",
    "    \n",
    "    if (len(approx) == 4):\n",
    "      x,y,w,h = cv2.boundingRect(cnt)\n",
    "      ar = 1.0 * h / w\n",
    "      \n",
    "      if (ar >= 0.3 and ar <= 0.55 and h*w > minArea and h*w < maxArea):\n",
    "        cv2.rectangle(color, (x,y), (x+w, y+h), (255, 0, 0), 2)\n",
    "  plt.subplot(2, 4, i+1)\n",
    "  plt.imshow(color, cmap=\"gray\")"
   ]
  },
  {
   "cell_type": "code",
   "execution_count": null,
   "metadata": {},
   "outputs": [],
   "source": [
    "plt.figure(figsize=(30,12))\n",
    "plt.imshow(coloreds[6], cmap=\"gray\")"
   ]
  },
  {
   "cell_type": "code",
   "execution_count": null,
   "metadata": {},
   "outputs": [],
   "source": [
    "import skimage\n",
    "from skimage import filters, feature"
   ]
  },
  {
   "cell_type": "code",
   "execution_count": null,
   "metadata": {},
   "outputs": [],
   "source": [
    "testex = imagens_grayscale[1]\n",
    "denoised = filters.median(testex, selem=np.ones((5,5)))\n",
    "f, (ax0, ax1) = plt.subplots(1, 2, figsize=(15,5))\n",
    "ax0.imshow(testex)\n",
    "ax1.imshow(denoised)"
   ]
  },
  {
   "cell_type": "code",
   "execution_count": null,
   "metadata": {},
   "outputs": [],
   "source": [
    "edges = feature.canny(testex, sigma=3)\n",
    "plt.figure(figsize=(30,12))\n",
    "plt.imshow(edges)"
   ]
  },
  {
   "cell_type": "code",
   "execution_count": null,
   "metadata": {},
   "outputs": [],
   "source": [
    "from scipy.ndimage import distance_transform_edt\n",
    "dt = distance_transform_edt(~edges)\n",
    "\n",
    "plt.figure(figsize=(30,12))\n",
    "plt.imshow(dt)"
   ]
  },
  {
   "cell_type": "code",
   "execution_count": null,
   "metadata": {},
   "outputs": [],
   "source": [
    "local_max = feature.peak_local_max(dt, indices=False, min_distance=1)\n",
    "plt.figure(figsize=(30,12))\n",
    "plt.imshow(local_max, cmap=\"gray\")"
   ]
  },
  {
   "cell_type": "code",
   "execution_count": null,
   "metadata": {},
   "outputs": [],
   "source": []
  },
  {
   "cell_type": "code",
   "execution_count": null,
   "metadata": {},
   "outputs": [],
   "source": []
  },
  {
   "cell_type": "code",
   "execution_count": null,
   "metadata": {},
   "outputs": [],
   "source": []
  },
  {
   "cell_type": "code",
   "execution_count": null,
   "metadata": {},
   "outputs": [],
   "source": []
  },
  {
   "cell_type": "code",
   "execution_count": null,
   "metadata": {},
   "outputs": [],
   "source": []
  },
  {
   "cell_type": "code",
   "execution_count": null,
   "metadata": {},
   "outputs": [],
   "source": []
  },
  {
   "cell_type": "code",
   "execution_count": null,
   "metadata": {},
   "outputs": [],
   "source": []
  }
 ],
 "metadata": {
  "kernelspec": {
   "display_name": "Python [conda env:root] *",
   "language": "python",
   "name": "conda-root-py"
  },
  "language_info": {
   "codemirror_mode": {
    "name": "ipython",
    "version": 3
   },
   "file_extension": ".py",
   "mimetype": "text/x-python",
   "name": "python",
   "nbconvert_exporter": "python",
   "pygments_lexer": "ipython3",
   "version": "3.7.3"
  }
 },
 "nbformat": 4,
 "nbformat_minor": 2
}
