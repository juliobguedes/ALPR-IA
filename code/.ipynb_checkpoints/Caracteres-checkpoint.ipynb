{
 "cells": [
  {
   "cell_type": "markdown",
   "metadata": {},
   "source": [
    "# Reconhecendo Caracteres das Placas\n",
    "\n",
    "## Import das bibliotecas e funções"
   ]
  },
  {
   "cell_type": "code",
   "execution_count": 1,
   "metadata": {},
   "outputs": [
    {
     "data": {
      "text/plain": [
       "'3.6.8 |Anaconda, Inc.| (default, Dec 29 2018, 19:04:46) \\n[GCC 4.2.1 Compatible Clang 4.0.1 (tags/RELEASE_401/final)]'"
      ]
     },
     "execution_count": 1,
     "metadata": {},
     "output_type": "execute_result"
    }
   ],
   "source": [
    "import sys\n",
    "sys.version"
   ]
  },
  {
   "cell_type": "code",
   "execution_count": 16,
   "metadata": {},
   "outputs": [],
   "source": [
    "import cv2\n",
    "\n",
    "import matplotlib as mpl\n",
    "from matplotlib import pyplot as plt\n",
    "%matplotlib inline\n",
    "\n",
    "import numpy as np\n",
    "np.random.seed(12321)\n",
    "\n",
    "import pandas as pd\n",
    "\n",
    "import os, json, itertools, math, time"
   ]
  },
  {
   "cell_type": "code",
   "execution_count": 3,
   "metadata": {},
   "outputs": [],
   "source": [
    "import tensorflow as tf\n",
    "from tensorflow.python import keras\n",
    "from tensorflow.python.keras.callbacks import TensorBoard\n",
    "from tensorflow.python.keras.models import Sequential\n",
    "from tensorflow.python.keras.layers import Dense, Conv2D, Flatten, MaxPooling2D\n",
    "from tensorflow.python.keras.utils import to_categorical"
   ]
  },
  {
   "cell_type": "code",
   "execution_count": 4,
   "metadata": {},
   "outputs": [],
   "source": [
    "from sklearn.metrics import confusion_matrix\n",
    "from sklearn.utils.multiclass import unique_labels\n",
    "from sklearn.metrics import accuracy_score\n",
    "\n",
    "def plot_confusion_matrix(cm, classes, normalize=False, title='Confusion matrix',\n",
    "                          cmap=plt.cm.Blues):\n",
    "    # Função importada dos exemplos do SKLearn\n",
    "    if normalize:\n",
    "        cm = cm.astype('float') / cm.sum(axis=1)[:, np.newaxis]\n",
    "\n",
    "    plt.figure(figsize=(30,12))\n",
    "    plt.imshow(cm, interpolation='nearest', cmap=cmap)\n",
    "    plt.title(title)\n",
    "    plt.colorbar()\n",
    "    tick_marks = np.arange(len(classes))\n",
    "    plt.xticks(tick_marks, classes, rotation=45)\n",
    "    plt.yticks(tick_marks, classes)\n",
    "\n",
    "    fmt = '.2f' if normalize else 'd'\n",
    "    thresh = cm.max() / 2.\n",
    "    for i, j in itertools.product(range(cm.shape[0]), range(cm.shape[1])):\n",
    "        plt.text(j, i, format(cm[i, j], fmt),\n",
    "                 horizontalalignment=\"center\",\n",
    "                 color=\"white\" if cm[i, j] > thresh else \"black\")\n",
    "\n",
    "    plt.ylabel('True label')\n",
    "    plt.xlabel('Predicted label')\n",
    "    plt.tight_layout()"
   ]
  },
  {
   "cell_type": "code",
   "execution_count": 5,
   "metadata": {},
   "outputs": [],
   "source": [
    "def plot(imagem):\n",
    "    plt.figure(figsize=(30,12))\n",
    "    plt.imshow(imagem, cmap=\"gray\")\n",
    "    plt.tick_params(bottom=False, labelbottom=False, left=False, labelleft=False)"
   ]
  },
  {
   "cell_type": "markdown",
   "metadata": {},
   "source": [
    "## Import dos dados"
   ]
  },
  {
   "cell_type": "code",
   "execution_count": 6,
   "metadata": {},
   "outputs": [],
   "source": [
    "path = \"../data/training/\""
   ]
  },
  {
   "cell_type": "code",
   "execution_count": 7,
   "metadata": {},
   "outputs": [],
   "source": [
    "def get_tboard(nmap):\n",
    "    l = [\"reconhece-digitos-{}\", \"reconhece-caracteres-{}\", \"reconhece-digitos-caracteres-\"]\n",
    "    name = l[nmap].format(time.time())\n",
    "    tbpath = '/Users/juliobguedes/Documents/ufcg/current/ia/logs/{}'.format(name)\n",
    "    return TensorBoard(log_dir=tbpath)"
   ]
  },
  {
   "cell_type": "code",
   "execution_count": 8,
   "metadata": {},
   "outputs": [],
   "source": [
    "digitos = []\n",
    "label_digitos = []\n",
    "caracteres = []\n",
    "label_caracteres=[]\n",
    "\n",
    "# Considera apenas imagens corretas\n",
    "# Arquivos ._ não são imagens válidas, embora terminem com .png\n",
    "files = [f for f in os.listdir(path) if f.endswith(\".png\") and f.startswith(\"track\")]\n",
    "\n",
    "for arq in files:\n",
    "        \n",
    "    img = cv2.imread(path + arq, 0)\n",
    "    w, c, d = arq.split(\"-\")\n",
    "    if (d[0] == \"1\"):\n",
    "        digitos.append(img)\n",
    "        label_digitos.append(int(chr(int(c))))\n",
    "        \n",
    "    elif (d[0] == \"0\"):\n",
    "        caracteres.append(img)\n",
    "        label_caracteres.append(chr(int(c)))"
   ]
  },
  {
   "cell_type": "code",
   "execution_count": 9,
   "metadata": {},
   "outputs": [
    {
     "data": {
      "image/png": "[encoded data removed]",
      "text/plain": [
       "<Figure size 2160x864 with 1 Axes>"
      ]
     },
     "metadata": {},
     "output_type": "display_data"
    }
   ],
   "source": [
    "plot(digitos[0])"
   ]
  },
  {
   "cell_type": "code",
   "execution_count": 26,
   "metadata": {},
   "outputs": [
    {
     "ename": "TypeError",
     "evalue": "Invalid shape (20, 20, 1) for image data",
     "output_type": "error",
     "traceback": [
      "\u001b[0;31m---------------------------------------------------------------------------\u001b[0m",
      "\u001b[0;31mTypeError\u001b[0m                                 Traceback (most recent call last)",
      "\u001b[0;32m<ipython-input-26-a153347e6f5e>\u001b[0m in \u001b[0;36m<module>\u001b[0;34m\u001b[0m\n\u001b[0;32m----> 1\u001b[0;31m \u001b[0mplot\u001b[0m\u001b[0;34m(\u001b[0m\u001b[0mcaracteres\u001b[0m\u001b[0;34m[\u001b[0m\u001b[0;36m0\u001b[0m\u001b[0;34m]\u001b[0m\u001b[0;34m)\u001b[0m\u001b[0;34m\u001b[0m\u001b[0;34m\u001b[0m\u001b[0m\n\u001b[0m",
      "\u001b[0;32m<ipython-input-5-db1d4aee4476>\u001b[0m in \u001b[0;36mplot\u001b[0;34m(imagem)\u001b[0m\n\u001b[1;32m      1\u001b[0m \u001b[0;32mdef\u001b[0m \u001b[0mplot\u001b[0m\u001b[0;34m(\u001b[0m\u001b[0mimagem\u001b[0m\u001b[0;34m)\u001b[0m\u001b[0;34m:\u001b[0m\u001b[0;34m\u001b[0m\u001b[0;34m\u001b[0m\u001b[0m\n\u001b[1;32m      2\u001b[0m     \u001b[0mplt\u001b[0m\u001b[0;34m.\u001b[0m\u001b[0mfigure\u001b[0m\u001b[0;34m(\u001b[0m\u001b[0mfigsize\u001b[0m\u001b[0;34m=\u001b[0m\u001b[0;34m(\u001b[0m\u001b[0;36m30\u001b[0m\u001b[0;34m,\u001b[0m\u001b[0;36m12\u001b[0m\u001b[0;34m)\u001b[0m\u001b[0;34m)\u001b[0m\u001b[0;34m\u001b[0m\u001b[0;34m\u001b[0m\u001b[0m\n\u001b[0;32m----> 3\u001b[0;31m     \u001b[0mplt\u001b[0m\u001b[0;34m.\u001b[0m\u001b[0mimshow\u001b[0m\u001b[0;34m(\u001b[0m\u001b[0mimagem\u001b[0m\u001b[0;34m,\u001b[0m \u001b[0mcmap\u001b[0m\u001b[0;34m=\u001b[0m\u001b[0;34m\"gray\"\u001b[0m\u001b[0;34m)\u001b[0m\u001b[0;34m\u001b[0m\u001b[0;34m\u001b[0m\u001b[0m\n\u001b[0m\u001b[1;32m      4\u001b[0m     \u001b[0mplt\u001b[0m\u001b[0;34m.\u001b[0m\u001b[0mtick_params\u001b[0m\u001b[0;34m(\u001b[0m\u001b[0mbottom\u001b[0m\u001b[0;34m=\u001b[0m\u001b[0;32mFalse\u001b[0m\u001b[0;34m,\u001b[0m \u001b[0mlabelbottom\u001b[0m\u001b[0;34m=\u001b[0m\u001b[0;32mFalse\u001b[0m\u001b[0;34m,\u001b[0m \u001b[0mleft\u001b[0m\u001b[0;34m=\u001b[0m\u001b[0;32mFalse\u001b[0m\u001b[0;34m,\u001b[0m \u001b[0mlabelleft\u001b[0m\u001b[0;34m=\u001b[0m\u001b[0;32mFalse\u001b[0m\u001b[0;34m)\u001b[0m\u001b[0;34m\u001b[0m\u001b[0;34m\u001b[0m\u001b[0m\n",
      "\u001b[0;32m~/anaconda3/envs/alpr/lib/python3.6/site-packages/matplotlib/pyplot.py\u001b[0m in \u001b[0;36mimshow\u001b[0;34m(X, cmap, norm, aspect, interpolation, alpha, vmin, vmax, origin, extent, shape, filternorm, filterrad, imlim, resample, url, data, **kwargs)\u001b[0m\n\u001b[1;32m   2675\u001b[0m         \u001b[0mfilternorm\u001b[0m\u001b[0;34m=\u001b[0m\u001b[0mfilternorm\u001b[0m\u001b[0;34m,\u001b[0m \u001b[0mfilterrad\u001b[0m\u001b[0;34m=\u001b[0m\u001b[0mfilterrad\u001b[0m\u001b[0;34m,\u001b[0m \u001b[0mimlim\u001b[0m\u001b[0;34m=\u001b[0m\u001b[0mimlim\u001b[0m\u001b[0;34m,\u001b[0m\u001b[0;34m\u001b[0m\u001b[0;34m\u001b[0m\u001b[0m\n\u001b[1;32m   2676\u001b[0m         resample=resample, url=url, **({\"data\": data} if data is not\n\u001b[0;32m-> 2677\u001b[0;31m         None else {}), **kwargs)\n\u001b[0m\u001b[1;32m   2678\u001b[0m     \u001b[0msci\u001b[0m\u001b[0;34m(\u001b[0m\u001b[0m__ret\u001b[0m\u001b[0;34m)\u001b[0m\u001b[0;34m\u001b[0m\u001b[0;34m\u001b[0m\u001b[0m\n\u001b[1;32m   2679\u001b[0m     \u001b[0;32mreturn\u001b[0m \u001b[0m__ret\u001b[0m\u001b[0;34m\u001b[0m\u001b[0;34m\u001b[0m\u001b[0m\n",
      "\u001b[0;32m~/anaconda3/envs/alpr/lib/python3.6/site-packages/matplotlib/__init__.py\u001b[0m in \u001b[0;36minner\u001b[0;34m(ax, data, *args, **kwargs)\u001b[0m\n\u001b[1;32m   1587\u001b[0m     \u001b[0;32mdef\u001b[0m \u001b[0minner\u001b[0m\u001b[0;34m(\u001b[0m\u001b[0max\u001b[0m\u001b[0;34m,\u001b[0m \u001b[0;34m*\u001b[0m\u001b[0margs\u001b[0m\u001b[0;34m,\u001b[0m \u001b[0mdata\u001b[0m\u001b[0;34m=\u001b[0m\u001b[0;32mNone\u001b[0m\u001b[0;34m,\u001b[0m \u001b[0;34m**\u001b[0m\u001b[0mkwargs\u001b[0m\u001b[0;34m)\u001b[0m\u001b[0;34m:\u001b[0m\u001b[0;34m\u001b[0m\u001b[0;34m\u001b[0m\u001b[0m\n\u001b[1;32m   1588\u001b[0m         \u001b[0;32mif\u001b[0m \u001b[0mdata\u001b[0m \u001b[0;32mis\u001b[0m \u001b[0;32mNone\u001b[0m\u001b[0;34m:\u001b[0m\u001b[0;34m\u001b[0m\u001b[0;34m\u001b[0m\u001b[0m\n\u001b[0;32m-> 1589\u001b[0;31m             \u001b[0;32mreturn\u001b[0m \u001b[0mfunc\u001b[0m\u001b[0;34m(\u001b[0m\u001b[0max\u001b[0m\u001b[0;34m,\u001b[0m \u001b[0;34m*\u001b[0m\u001b[0mmap\u001b[0m\u001b[0;34m(\u001b[0m\u001b[0msanitize_sequence\u001b[0m\u001b[0;34m,\u001b[0m \u001b[0margs\u001b[0m\u001b[0;34m)\u001b[0m\u001b[0;34m,\u001b[0m \u001b[0;34m**\u001b[0m\u001b[0mkwargs\u001b[0m\u001b[0;34m)\u001b[0m\u001b[0;34m\u001b[0m\u001b[0;34m\u001b[0m\u001b[0m\n\u001b[0m\u001b[1;32m   1590\u001b[0m \u001b[0;34m\u001b[0m\u001b[0m\n\u001b[1;32m   1591\u001b[0m         \u001b[0mbound\u001b[0m \u001b[0;34m=\u001b[0m \u001b[0mnew_sig\u001b[0m\u001b[0;34m.\u001b[0m\u001b[0mbind\u001b[0m\u001b[0;34m(\u001b[0m\u001b[0max\u001b[0m\u001b[0;34m,\u001b[0m \u001b[0;34m*\u001b[0m\u001b[0margs\u001b[0m\u001b[0;34m,\u001b[0m \u001b[0;34m**\u001b[0m\u001b[0mkwargs\u001b[0m\u001b[0;34m)\u001b[0m\u001b[0;34m\u001b[0m\u001b[0;34m\u001b[0m\u001b[0m\n",
      "\u001b[0;32m~/anaconda3/envs/alpr/lib/python3.6/site-packages/matplotlib/cbook/deprecation.py\u001b[0m in \u001b[0;36mwrapper\u001b[0;34m(*args, **kwargs)\u001b[0m\n\u001b[1;32m    367\u001b[0m                 \u001b[0;34mf\"%(removal)s.  If any parameter follows {name!r}, they \"\u001b[0m\u001b[0;34m\u001b[0m\u001b[0;34m\u001b[0m\u001b[0m\n\u001b[1;32m    368\u001b[0m                 f\"should be pass as keyword, not positionally.\")\n\u001b[0;32m--> 369\u001b[0;31m         \u001b[0;32mreturn\u001b[0m \u001b[0mfunc\u001b[0m\u001b[0;34m(\u001b[0m\u001b[0;34m*\u001b[0m\u001b[0margs\u001b[0m\u001b[0;34m,\u001b[0m \u001b[0;34m**\u001b[0m\u001b[0mkwargs\u001b[0m\u001b[0;34m)\u001b[0m\u001b[0;34m\u001b[0m\u001b[0;34m\u001b[0m\u001b[0m\n\u001b[0m\u001b[1;32m    370\u001b[0m \u001b[0;34m\u001b[0m\u001b[0m\n\u001b[1;32m    371\u001b[0m     \u001b[0;32mreturn\u001b[0m \u001b[0mwrapper\u001b[0m\u001b[0;34m\u001b[0m\u001b[0;34m\u001b[0m\u001b[0m\n",
      "\u001b[0;32m~/anaconda3/envs/alpr/lib/python3.6/site-packages/matplotlib/cbook/deprecation.py\u001b[0m in \u001b[0;36mwrapper\u001b[0;34m(*args, **kwargs)\u001b[0m\n\u001b[1;32m    367\u001b[0m                 \u001b[0;34mf\"%(removal)s.  If any parameter follows {name!r}, they \"\u001b[0m\u001b[0;34m\u001b[0m\u001b[0;34m\u001b[0m\u001b[0m\n\u001b[1;32m    368\u001b[0m                 f\"should be pass as keyword, not positionally.\")\n\u001b[0;32m--> 369\u001b[0;31m         \u001b[0;32mreturn\u001b[0m \u001b[0mfunc\u001b[0m\u001b[0;34m(\u001b[0m\u001b[0;34m*\u001b[0m\u001b[0margs\u001b[0m\u001b[0;34m,\u001b[0m \u001b[0;34m**\u001b[0m\u001b[0mkwargs\u001b[0m\u001b[0;34m)\u001b[0m\u001b[0;34m\u001b[0m\u001b[0;34m\u001b[0m\u001b[0m\n\u001b[0m\u001b[1;32m    370\u001b[0m \u001b[0;34m\u001b[0m\u001b[0m\n\u001b[1;32m    371\u001b[0m     \u001b[0;32mreturn\u001b[0m \u001b[0mwrapper\u001b[0m\u001b[0;34m\u001b[0m\u001b[0;34m\u001b[0m\u001b[0m\n",
      "\u001b[0;32m~/anaconda3/envs/alpr/lib/python3.6/site-packages/matplotlib/axes/_axes.py\u001b[0m in \u001b[0;36mimshow\u001b[0;34m(self, X, cmap, norm, aspect, interpolation, alpha, vmin, vmax, origin, extent, shape, filternorm, filterrad, imlim, resample, url, **kwargs)\u001b[0m\n\u001b[1;32m   5658\u001b[0m                               resample=resample, **kwargs)\n\u001b[1;32m   5659\u001b[0m \u001b[0;34m\u001b[0m\u001b[0m\n\u001b[0;32m-> 5660\u001b[0;31m         \u001b[0mim\u001b[0m\u001b[0;34m.\u001b[0m\u001b[0mset_data\u001b[0m\u001b[0;34m(\u001b[0m\u001b[0mX\u001b[0m\u001b[0;34m)\u001b[0m\u001b[0;34m\u001b[0m\u001b[0;34m\u001b[0m\u001b[0m\n\u001b[0m\u001b[1;32m   5661\u001b[0m         \u001b[0mim\u001b[0m\u001b[0;34m.\u001b[0m\u001b[0mset_alpha\u001b[0m\u001b[0;34m(\u001b[0m\u001b[0malpha\u001b[0m\u001b[0;34m)\u001b[0m\u001b[0;34m\u001b[0m\u001b[0;34m\u001b[0m\u001b[0m\n\u001b[1;32m   5662\u001b[0m         \u001b[0;32mif\u001b[0m \u001b[0mim\u001b[0m\u001b[0;34m.\u001b[0m\u001b[0mget_clip_path\u001b[0m\u001b[0;34m(\u001b[0m\u001b[0;34m)\u001b[0m \u001b[0;32mis\u001b[0m \u001b[0;32mNone\u001b[0m\u001b[0;34m:\u001b[0m\u001b[0;34m\u001b[0m\u001b[0;34m\u001b[0m\u001b[0m\n",
      "\u001b[0;32m~/anaconda3/envs/alpr/lib/python3.6/site-packages/matplotlib/image.py\u001b[0m in \u001b[0;36mset_data\u001b[0;34m(self, A)\u001b[0m\n\u001b[1;32m    681\u001b[0m                 or self._A.ndim == 3 and self._A.shape[-1] in [3, 4]):\n\u001b[1;32m    682\u001b[0m             raise TypeError(\"Invalid shape {} for image data\"\n\u001b[0;32m--> 683\u001b[0;31m                             .format(self._A.shape))\n\u001b[0m\u001b[1;32m    684\u001b[0m \u001b[0;34m\u001b[0m\u001b[0m\n\u001b[1;32m    685\u001b[0m         \u001b[0;32mif\u001b[0m \u001b[0mself\u001b[0m\u001b[0;34m.\u001b[0m\u001b[0m_A\u001b[0m\u001b[0;34m.\u001b[0m\u001b[0mndim\u001b[0m \u001b[0;34m==\u001b[0m \u001b[0;36m3\u001b[0m\u001b[0;34m:\u001b[0m\u001b[0;34m\u001b[0m\u001b[0;34m\u001b[0m\u001b[0m\n",
      "\u001b[0;31mTypeError\u001b[0m: Invalid shape (20, 20, 1) for image data"
     ]
    },
    {
     "data": {
      "image/png": "[encoded data removed]",
      "text/plain": [
       "<Figure size 2160x864 with 1 Axes>"
      ]
     },
     "metadata": {
      "needs_background": "light"
     },
     "output_type": "display_data"
    }
   ],
   "source": [
    "plot(caracteres[0])"
   ]
  },
  {
   "cell_type": "code",
   "execution_count": 10,
   "metadata": {},
   "outputs": [],
   "source": [
    "valpath = \"../data/validation/\"\n",
    "valdigitos = []\n",
    "vallabel_digitos = []\n",
    "valcaracteres = []\n",
    "vallabel_caracteres=[]\n",
    "\n",
    "# Considera apenas imagens corretas\n",
    "# Arquivos ._ não são imagens válidas, embora terminem com .png\n",
    "files = [f for f in os.listdir(valpath) if f.endswith(\".png\") and f.startswith(\"track\")]\n",
    "\n",
    "for arq in files:\n",
    "        \n",
    "    img = cv2.imread(valpath + arq, 0)\n",
    "    w, c, d = arq.split(\"-\")\n",
    "    if (d[0] == \"1\"):\n",
    "        valdigitos.append(img)\n",
    "        vallabel_digitos.append(int(chr(int(c))))\n",
    "        \n",
    "    elif (d[0] == \"0\"):\n",
    "        valcaracteres.append(img)\n",
    "        vallabel_caracteres.append(chr(int(c)))"
   ]
  },
  {
   "cell_type": "markdown",
   "metadata": {},
   "source": [
    "## Preparação dos dados para treino"
   ]
  },
  {
   "cell_type": "code",
   "execution_count": 11,
   "metadata": {},
   "outputs": [],
   "source": [
    "prop_validacao_digitos = len(valdigitos) / (len(valdigitos) + len(digitos))\n",
    "\n",
    "digitos.extend(valdigitos)\n",
    "label_digitos.extend(vallabel_digitos)\n",
    "\n",
    "prop_validacao_caracteres = len(valcaracteres) / (len(valcaracteres) + len(caracteres))\n",
    "\n",
    "caracteres.extend(valcaracteres)\n",
    "label_caracteres.extend(vallabel_caracteres)"
   ]
  },
  {
   "cell_type": "markdown",
   "metadata": {},
   "source": [
    "PS: Como a função `to_categorical` de Keras não consegue converter letras para variáveis categóricas, optei por usar o padrão onde A = 0, B = 1, C = 3, e assim por diante. Dessa forma, cada letra será convertida em seu valor ASCII subtraido de 65 (valor de A)."
   ]
  },
  {
   "cell_type": "code",
   "execution_count": 12,
   "metadata": {},
   "outputs": [],
   "source": [
    "digitos = np.array([np.expand_dims(d, axis=2) for d in digitos])\n",
    "digitos_categoricos = to_categorical(label_digitos, num_classes=10)"
   ]
  },
  {
   "cell_type": "code",
   "execution_count": 14,
   "metadata": {},
   "outputs": [],
   "source": [
    "caracteres = np.array([np.expand_dims(c, axis=2) for c in caracteres])\n",
    "caracteres_ord = [ord(c) - 65 for c in label_caracteres]\n",
    "caracteres_categoricos = to_categorical(caracteres_ord, num_classes=26)"
   ]
  },
  {
   "cell_type": "code",
   "execution_count": 29,
   "metadata": {},
   "outputs": [
    {
     "data": {
      "text/plain": [
       "array([0., 0., 0., 0., 0., 1., 0., 0., 0., 0., 0., 0., 0., 0., 0., 0., 0.,\n",
       "       0., 0., 0., 0., 0., 0., 0., 0., 0.], dtype=float32)"
      ]
     },
     "execution_count": 29,
     "metadata": {},
     "output_type": "execute_result"
    }
   ],
   "source": [
    "caracteres_categoricos[0]"
   ]
  },
  {
   "cell_type": "code",
   "execution_count": 15,
   "metadata": {},
   "outputs": [],
   "source": [
    "valdigitos, valcaracteres, vallabel_digitos, vallabel_caracteres = None, None, None, None"
   ]
  },
  {
   "cell_type": "markdown",
   "metadata": {},
   "source": [
    "## CNN - Digitos"
   ]
  },
  {
   "cell_type": "code",
   "execution_count": 17,
   "metadata": {
    "scrolled": false
   },
   "outputs": [
    {
     "name": "stdout",
     "output_type": "stream",
     "text": [
      "WARNING:tensorflow:From /Users/juliobguedes/anaconda3/envs/alpr/lib/python3.6/site-packages/tensorflow/python/ops/resource_variable_ops.py:435: colocate_with (from tensorflow.python.framework.ops) is deprecated and will be removed in a future version.\n",
      "Instructions for updating:\n",
      "Colocations handled automatically by placer.\n"
     ]
    }
   ],
   "source": [
    "model = Sequential()\n",
    "model.add(Conv2D(64, (3,3), input_shape=(20, 20, 1)))\n",
    "model.add(MaxPooling2D((2,2)))\n",
    "model.add(Flatten())\n",
    "\n",
    "model.add(Dense(256, activation=\"sigmoid\"))\n",
    "model.add(Dense(512, activation=\"relu\"))\n",
    "model.add(Dense(256, activation=\"relu\"))\n",
    "model.add(Dense(512, activation=\"relu\"))\n",
    "model.add(Dense(10, activation=\"softmax\"))\n",
    "\n",
    "model.compile(optimizer=\"adam\",\n",
    "              metrics=[\"categorical_accuracy\"],\n",
    "              loss=\"categorical_crossentropy\")"
   ]
  },
  {
   "cell_type": "code",
   "execution_count": 18,
   "metadata": {
    "scrolled": true
   },
   "outputs": [
    {
     "name": "stdout",
     "output_type": "stream",
     "text": [
      "Train on 6330 samples, validate on 3180 samples\n",
      "WARNING:tensorflow:From /Users/juliobguedes/anaconda3/envs/alpr/lib/python3.6/site-packages/tensorflow/python/ops/math_ops.py:3066: to_int32 (from tensorflow.python.ops.math_ops) is deprecated and will be removed in a future version.\n",
      "Instructions for updating:\n",
      "Use tf.cast instead.\n",
      "Epoch 1/100\n",
      "6330/6330 [==============================] - 7s 1ms/sample - loss: 0.9692 - categorical_accuracy: 0.6572 - val_loss: 0.6556 - val_categorical_accuracy: 0.7777\n",
      "Epoch 2/100\n",
      "6330/6330 [==============================] - 7s 1ms/sample - loss: 0.4428 - categorical_accuracy: 0.8404 - val_loss: 0.5312 - val_categorical_accuracy: 0.8296\n",
      "Epoch 3/100\n",
      "6330/6330 [==============================] - 8s 1ms/sample - loss: 0.4302 - categorical_accuracy: 0.8457 - val_loss: 0.6040 - val_categorical_accuracy: 0.8129\n",
      "Epoch 4/100\n",
      "6330/6330 [==============================] - 8s 1ms/sample - loss: 0.2689 - categorical_accuracy: 0.9057 - val_loss: 0.5227 - val_categorical_accuracy: 0.8601\n",
      "Epoch 5/100\n",
      "6330/6330 [==============================] - 7s 1ms/sample - loss: 0.1967 - categorical_accuracy: 0.9318 - val_loss: 0.4743 - val_categorical_accuracy: 0.8881\n",
      "Epoch 6/100\n",
      "6330/6330 [==============================] - 7s 1ms/sample - loss: 0.2094 - categorical_accuracy: 0.9305 - val_loss: 0.3916 - val_categorical_accuracy: 0.8972\n",
      "Epoch 7/100\n",
      "6330/6330 [==============================] - 9s 1ms/sample - loss: 0.1900 - categorical_accuracy: 0.9349 - val_loss: 0.3107 - val_categorical_accuracy: 0.9258\n",
      "Epoch 8/100\n",
      "6330/6330 [==============================] - 8s 1ms/sample - loss: 0.1950 - categorical_accuracy: 0.9327 - val_loss: 0.3828 - val_categorical_accuracy: 0.8846\n",
      "Epoch 9/100\n",
      "6330/6330 [==============================] - 7s 1ms/sample - loss: 0.2141 - categorical_accuracy: 0.9256 - val_loss: 0.4589 - val_categorical_accuracy: 0.8752\n",
      "Epoch 10/100\n",
      "6330/6330 [==============================] - 7s 1ms/sample - loss: 0.1951 - categorical_accuracy: 0.9303 - val_loss: 0.3459 - val_categorical_accuracy: 0.9028\n",
      "Epoch 11/100\n",
      "6330/6330 [==============================] - 7s 1ms/sample - loss: 0.1865 - categorical_accuracy: 0.9325 - val_loss: 0.4421 - val_categorical_accuracy: 0.8940\n",
      "Epoch 12/100\n",
      "6330/6330 [==============================] - 8s 1ms/sample - loss: 0.1199 - categorical_accuracy: 0.9585 - val_loss: 0.3401 - val_categorical_accuracy: 0.9267\n",
      "Epoch 13/100\n",
      "6330/6330 [==============================] - 10s 2ms/sample - loss: 0.1091 - categorical_accuracy: 0.9616 - val_loss: 0.3850 - val_categorical_accuracy: 0.9116\n",
      "Epoch 14/100\n",
      "6330/6330 [==============================] - 10s 2ms/sample - loss: 0.1083 - categorical_accuracy: 0.9665 - val_loss: 0.3674 - val_categorical_accuracy: 0.9208\n",
      "Epoch 15/100\n",
      "6330/6330 [==============================] - 11s 2ms/sample - loss: 0.1361 - categorical_accuracy: 0.9520 - val_loss: 0.4603 - val_categorical_accuracy: 0.8937\n",
      "Epoch 16/100\n",
      "6330/6330 [==============================] - 8s 1ms/sample - loss: 0.1594 - categorical_accuracy: 0.9455 - val_loss: 0.4285 - val_categorical_accuracy: 0.9072\n",
      "Epoch 17/100\n",
      "6330/6330 [==============================] - 9s 1ms/sample - loss: 0.1206 - categorical_accuracy: 0.9588 - val_loss: 0.3826 - val_categorical_accuracy: 0.9223\n",
      "Epoch 18/100\n",
      "6330/6330 [==============================] - 7s 1ms/sample - loss: 0.1147 - categorical_accuracy: 0.9607 - val_loss: 0.3904 - val_categorical_accuracy: 0.9104\n",
      "Epoch 19/100\n",
      "6330/6330 [==============================] - 8s 1ms/sample - loss: 0.1121 - categorical_accuracy: 0.9600 - val_loss: 0.4217 - val_categorical_accuracy: 0.8871\n",
      "Epoch 20/100\n",
      "6330/6330 [==============================] - 7s 1ms/sample - loss: 0.1406 - categorical_accuracy: 0.9532 - val_loss: 0.4066 - val_categorical_accuracy: 0.9132\n",
      "Epoch 21/100\n",
      "6330/6330 [==============================] - 8s 1ms/sample - loss: 0.1483 - categorical_accuracy: 0.9482 - val_loss: 0.4212 - val_categorical_accuracy: 0.8887\n",
      "Epoch 22/100\n",
      "6330/6330 [==============================] - 8s 1ms/sample - loss: 0.1754 - categorical_accuracy: 0.9387 - val_loss: 0.5060 - val_categorical_accuracy: 0.8629\n",
      "Epoch 23/100\n",
      "6330/6330 [==============================] - 8s 1ms/sample - loss: 0.1821 - categorical_accuracy: 0.9357 - val_loss: 0.3318 - val_categorical_accuracy: 0.9204\n",
      "Epoch 24/100\n",
      "6330/6330 [==============================] - 7s 1ms/sample - loss: 0.0892 - categorical_accuracy: 0.9701 - val_loss: 0.3561 - val_categorical_accuracy: 0.9267\n",
      "Epoch 25/100\n",
      "6330/6330 [==============================] - 7s 1ms/sample - loss: 0.1001 - categorical_accuracy: 0.9635 - val_loss: 0.4570 - val_categorical_accuracy: 0.9038\n",
      "Epoch 26/100\n",
      "6330/6330 [==============================] - 7s 1ms/sample - loss: 0.0691 - categorical_accuracy: 0.9749 - val_loss: 0.4196 - val_categorical_accuracy: 0.9173\n",
      "Epoch 27/100\n",
      "6330/6330 [==============================] - 7s 1ms/sample - loss: 0.1023 - categorical_accuracy: 0.9643 - val_loss: 0.4340 - val_categorical_accuracy: 0.9113\n",
      "Epoch 28/100\n",
      "6330/6330 [==============================] - 7s 1ms/sample - loss: 0.0937 - categorical_accuracy: 0.9678 - val_loss: 0.3323 - val_categorical_accuracy: 0.9327\n",
      "Epoch 29/100\n",
      "6330/6330 [==============================] - 7s 1ms/sample - loss: 0.0870 - categorical_accuracy: 0.9684 - val_loss: 0.3800 - val_categorical_accuracy: 0.9248\n",
      "Epoch 30/100\n",
      "6330/6330 [==============================] - 7s 1ms/sample - loss: 0.0904 - categorical_accuracy: 0.9670 - val_loss: 0.4810 - val_categorical_accuracy: 0.8934\n",
      "Epoch 31/100\n",
      "6330/6330 [==============================] - 7s 1ms/sample - loss: 0.0691 - categorical_accuracy: 0.9779 - val_loss: 0.5153 - val_categorical_accuracy: 0.8931\n",
      "Epoch 32/100\n",
      "6330/6330 [==============================] - 7s 1ms/sample - loss: 0.0783 - categorical_accuracy: 0.9716 - val_loss: 0.4055 - val_categorical_accuracy: 0.9164\n",
      "Epoch 33/100\n",
      "6330/6330 [==============================] - 7s 1ms/sample - loss: 0.0784 - categorical_accuracy: 0.9724 - val_loss: 0.4884 - val_categorical_accuracy: 0.8950\n",
      "Epoch 34/100\n",
      "6330/6330 [==============================] - 7s 1ms/sample - loss: 0.0798 - categorical_accuracy: 0.9705 - val_loss: 0.4195 - val_categorical_accuracy: 0.9176\n",
      "Epoch 35/100\n",
      "6330/6330 [==============================] - 7s 1ms/sample - loss: 0.0769 - categorical_accuracy: 0.9724 - val_loss: 0.3535 - val_categorical_accuracy: 0.9286\n",
      "Epoch 36/100\n",
      "6330/6330 [==============================] - 7s 1ms/sample - loss: 0.0797 - categorical_accuracy: 0.9735 - val_loss: 0.4506 - val_categorical_accuracy: 0.8925\n",
      "Epoch 37/100\n",
      "6330/6330 [==============================] - 7s 1ms/sample - loss: 0.0765 - categorical_accuracy: 0.9771 - val_loss: 0.3536 - val_categorical_accuracy: 0.9264\n",
      "Epoch 38/100\n",
      "6330/6330 [==============================] - 7s 1ms/sample - loss: 0.0696 - categorical_accuracy: 0.9752 - val_loss: 0.4503 - val_categorical_accuracy: 0.9085\n",
      "Epoch 39/100\n",
      "6330/6330 [==============================] - 7s 1ms/sample - loss: 0.0835 - categorical_accuracy: 0.9722 - val_loss: 0.4534 - val_categorical_accuracy: 0.8987\n",
      "Epoch 40/100\n",
      "6330/6330 [==============================] - 7s 1ms/sample - loss: 0.0937 - categorical_accuracy: 0.9662 - val_loss: 0.4657 - val_categorical_accuracy: 0.8918\n",
      "Epoch 41/100\n",
      "6330/6330 [==============================] - 7s 1ms/sample - loss: 0.0943 - categorical_accuracy: 0.9670 - val_loss: 0.4203 - val_categorical_accuracy: 0.8984\n",
      "Epoch 42/100\n",
      "6330/6330 [==============================] - 7s 1ms/sample - loss: 0.0945 - categorical_accuracy: 0.9665 - val_loss: 0.4809 - val_categorical_accuracy: 0.8918\n",
      "Epoch 43/100\n",
      "6330/6330 [==============================] - 7s 1ms/sample - loss: 0.1728 - categorical_accuracy: 0.9384 - val_loss: 0.5533 - val_categorical_accuracy: 0.8428\n",
      "Epoch 44/100\n",
      "6330/6330 [==============================] - 7s 1ms/sample - loss: 0.2273 - categorical_accuracy: 0.9167 - val_loss: 0.6210 - val_categorical_accuracy: 0.8173\n",
      "Epoch 45/100\n",
      "6330/6330 [==============================] - 7s 1ms/sample - loss: 0.5820 - categorical_accuracy: 0.7882 - val_loss: 0.8729 - val_categorical_accuracy: 0.6811\n",
      "Epoch 46/100\n",
      "6330/6330 [==============================] - 7s 1ms/sample - loss: 0.4121 - categorical_accuracy: 0.8512 - val_loss: 0.4171 - val_categorical_accuracy: 0.8975\n"
     ]
    },
    {
     "name": "stdout",
     "output_type": "stream",
     "text": [
      "Epoch 47/100\n",
      "6330/6330 [==============================] - 7s 1ms/sample - loss: 0.0974 - categorical_accuracy: 0.9675 - val_loss: 0.3593 - val_categorical_accuracy: 0.9270\n",
      "Epoch 48/100\n",
      "6330/6330 [==============================] - 7s 1ms/sample - loss: 0.0628 - categorical_accuracy: 0.9769 - val_loss: 0.3078 - val_categorical_accuracy: 0.9355\n",
      "Epoch 49/100\n",
      "6330/6330 [==============================] - 8s 1ms/sample - loss: 0.0599 - categorical_accuracy: 0.9779 - val_loss: 0.3221 - val_categorical_accuracy: 0.9381\n",
      "Epoch 50/100\n",
      "6330/6330 [==============================] - 7s 1ms/sample - loss: 0.0408 - categorical_accuracy: 0.9847 - val_loss: 0.3833 - val_categorical_accuracy: 0.9283\n",
      "Epoch 51/100\n",
      "6330/6330 [==============================] - 8s 1ms/sample - loss: 0.0681 - categorical_accuracy: 0.9739 - val_loss: 0.3147 - val_categorical_accuracy: 0.9299\n",
      "Epoch 52/100\n",
      "6330/6330 [==============================] - 8s 1ms/sample - loss: 0.0542 - categorical_accuracy: 0.9799 - val_loss: 0.3257 - val_categorical_accuracy: 0.9330\n",
      "Epoch 53/100\n",
      "6330/6330 [==============================] - 8s 1ms/sample - loss: 0.0779 - categorical_accuracy: 0.9714 - val_loss: 0.4593 - val_categorical_accuracy: 0.9195\n",
      "Epoch 54/100\n",
      "6330/6330 [==============================] - 7s 1ms/sample - loss: 0.0627 - categorical_accuracy: 0.9779 - val_loss: 0.4686 - val_categorical_accuracy: 0.9035\n",
      "Epoch 55/100\n",
      "6330/6330 [==============================] - 7s 1ms/sample - loss: 0.0576 - categorical_accuracy: 0.9785 - val_loss: 0.4166 - val_categorical_accuracy: 0.9204\n",
      "Epoch 56/100\n",
      "6330/6330 [==============================] - 8s 1ms/sample - loss: 0.0642 - categorical_accuracy: 0.9760 - val_loss: 0.4063 - val_categorical_accuracy: 0.9160\n",
      "Epoch 57/100\n",
      "6330/6330 [==============================] - 8s 1ms/sample - loss: 0.0641 - categorical_accuracy: 0.9771 - val_loss: 0.3643 - val_categorical_accuracy: 0.9248\n",
      "Epoch 58/100\n",
      "6330/6330 [==============================] - 8s 1ms/sample - loss: 0.0619 - categorical_accuracy: 0.9787 - val_loss: 0.3713 - val_categorical_accuracy: 0.9242\n",
      "Epoch 59/100\n",
      "6330/6330 [==============================] - 8s 1ms/sample - loss: 0.0541 - categorical_accuracy: 0.9815 - val_loss: 0.5499 - val_categorical_accuracy: 0.8852\n",
      "Epoch 60/100\n",
      "6330/6330 [==============================] - 7s 1ms/sample - loss: 0.0641 - categorical_accuracy: 0.9758 - val_loss: 0.3775 - val_categorical_accuracy: 0.9223\n",
      "Epoch 61/100\n",
      "6330/6330 [==============================] - 8s 1ms/sample - loss: 0.0532 - categorical_accuracy: 0.9807 - val_loss: 0.3611 - val_categorical_accuracy: 0.9255\n",
      "Epoch 62/100\n",
      "6330/6330 [==============================] - 7s 1ms/sample - loss: 0.0700 - categorical_accuracy: 0.9758 - val_loss: 0.3804 - val_categorical_accuracy: 0.9204\n",
      "Epoch 63/100\n",
      "6330/6330 [==============================] - 8s 1ms/sample - loss: 0.0681 - categorical_accuracy: 0.9760 - val_loss: 0.4069 - val_categorical_accuracy: 0.9160\n",
      "Epoch 64/100\n",
      "6330/6330 [==============================] - 8s 1ms/sample - loss: 0.0686 - categorical_accuracy: 0.9735 - val_loss: 0.3906 - val_categorical_accuracy: 0.9230\n",
      "Epoch 65/100\n",
      "6330/6330 [==============================] - 7s 1ms/sample - loss: 0.0899 - categorical_accuracy: 0.9682 - val_loss: 0.4571 - val_categorical_accuracy: 0.9022\n",
      "Epoch 66/100\n",
      "6330/6330 [==============================] - 7s 1ms/sample - loss: 0.0615 - categorical_accuracy: 0.9763 - val_loss: 0.5335 - val_categorical_accuracy: 0.8739\n",
      "Epoch 67/100\n",
      "6330/6330 [==============================] - 7s 1ms/sample - loss: 0.0685 - categorical_accuracy: 0.9736 - val_loss: 0.4263 - val_categorical_accuracy: 0.9013\n",
      "Epoch 68/100\n",
      "6330/6330 [==============================] - 7s 1ms/sample - loss: 0.0531 - categorical_accuracy: 0.9812 - val_loss: 0.4428 - val_categorical_accuracy: 0.9060\n",
      "Epoch 69/100\n",
      "6330/6330 [==============================] - 8s 1ms/sample - loss: 0.0646 - categorical_accuracy: 0.9801 - val_loss: 0.4395 - val_categorical_accuracy: 0.9138\n",
      "Epoch 70/100\n",
      "6330/6330 [==============================] - 7s 1ms/sample - loss: 0.0712 - categorical_accuracy: 0.9744 - val_loss: 0.4057 - val_categorical_accuracy: 0.9220\n",
      "Epoch 71/100\n",
      "6330/6330 [==============================] - 7s 1ms/sample - loss: 0.0617 - categorical_accuracy: 0.9779 - val_loss: 0.4130 - val_categorical_accuracy: 0.9270\n",
      "Epoch 72/100\n",
      "6330/6330 [==============================] - 7s 1ms/sample - loss: 0.0561 - categorical_accuracy: 0.9810 - val_loss: 0.3993 - val_categorical_accuracy: 0.9236\n",
      "Epoch 73/100\n",
      "6330/6330 [==============================] - 7s 1ms/sample - loss: 0.0609 - categorical_accuracy: 0.9810 - val_loss: 0.4891 - val_categorical_accuracy: 0.9066\n",
      "Epoch 74/100\n",
      "6330/6330 [==============================] - 7s 1ms/sample - loss: 0.0544 - categorical_accuracy: 0.9826 - val_loss: 0.3504 - val_categorical_accuracy: 0.9343\n",
      "Epoch 75/100\n",
      "6330/6330 [==============================] - 7s 1ms/sample - loss: 0.0401 - categorical_accuracy: 0.9861 - val_loss: 0.3589 - val_categorical_accuracy: 0.9381\n",
      "Epoch 76/100\n",
      "6330/6330 [==============================] - 7s 1ms/sample - loss: 0.0601 - categorical_accuracy: 0.9790 - val_loss: 0.3812 - val_categorical_accuracy: 0.9267\n",
      "Epoch 77/100\n",
      "6330/6330 [==============================] - 7s 1ms/sample - loss: 0.0473 - categorical_accuracy: 0.9823 - val_loss: 0.3687 - val_categorical_accuracy: 0.9371\n",
      "Epoch 78/100\n",
      "6330/6330 [==============================] - 7s 1ms/sample - loss: 0.0584 - categorical_accuracy: 0.9812 - val_loss: 0.3578 - val_categorical_accuracy: 0.9292\n",
      "Epoch 79/100\n",
      "6330/6330 [==============================] - 7s 1ms/sample - loss: 0.0408 - categorical_accuracy: 0.9852 - val_loss: 0.3656 - val_categorical_accuracy: 0.9292\n",
      "Epoch 80/100\n",
      "6330/6330 [==============================] - 7s 1ms/sample - loss: 0.0429 - categorical_accuracy: 0.9833 - val_loss: 0.4133 - val_categorical_accuracy: 0.9160\n",
      "Epoch 81/100\n",
      "6330/6330 [==============================] - 7s 1ms/sample - loss: 0.0494 - categorical_accuracy: 0.9825 - val_loss: 0.4597 - val_categorical_accuracy: 0.9182\n",
      "Epoch 82/100\n",
      "6330/6330 [==============================] - 7s 1ms/sample - loss: 0.0528 - categorical_accuracy: 0.9814 - val_loss: 0.4365 - val_categorical_accuracy: 0.9154\n",
      "Epoch 83/100\n",
      "6330/6330 [==============================] - 7s 1ms/sample - loss: 0.0586 - categorical_accuracy: 0.9806 - val_loss: 0.4215 - val_categorical_accuracy: 0.9167\n",
      "Epoch 84/100\n",
      "6330/6330 [==============================] - 7s 1ms/sample - loss: 0.0615 - categorical_accuracy: 0.9795 - val_loss: 0.4441 - val_categorical_accuracy: 0.9138\n",
      "Epoch 85/100\n",
      "6330/6330 [==============================] - 7s 1ms/sample - loss: 0.0594 - categorical_accuracy: 0.9787 - val_loss: 0.3531 - val_categorical_accuracy: 0.9283\n",
      "Epoch 86/100\n",
      "6330/6330 [==============================] - 7s 1ms/sample - loss: 0.0412 - categorical_accuracy: 0.9861 - val_loss: 0.4220 - val_categorical_accuracy: 0.9296\n",
      "Epoch 87/100\n",
      "6330/6330 [==============================] - 7s 1ms/sample - loss: 0.0551 - categorical_accuracy: 0.9820 - val_loss: 0.4058 - val_categorical_accuracy: 0.9283\n",
      "Epoch 88/100\n",
      "6330/6330 [==============================] - 8s 1ms/sample - loss: 0.0475 - categorical_accuracy: 0.9836 - val_loss: 0.3896 - val_categorical_accuracy: 0.9343\n",
      "Epoch 89/100\n",
      "6330/6330 [==============================] - 7s 1ms/sample - loss: 0.0594 - categorical_accuracy: 0.9788 - val_loss: 0.4117 - val_categorical_accuracy: 0.9201\n",
      "Epoch 90/100\n",
      "6330/6330 [==============================] - 7s 1ms/sample - loss: 0.0602 - categorical_accuracy: 0.9771 - val_loss: 0.4443 - val_categorical_accuracy: 0.8947\n",
      "Epoch 91/100\n",
      "6330/6330 [==============================] - 7s 1ms/sample - loss: 0.0692 - categorical_accuracy: 0.9768 - val_loss: 0.4588 - val_categorical_accuracy: 0.9053\n",
      "Epoch 92/100\n",
      "6330/6330 [==============================] - 8s 1ms/sample - loss: 0.0441 - categorical_accuracy: 0.9840 - val_loss: 0.4360 - val_categorical_accuracy: 0.9277\n",
      "Epoch 93/100\n",
      "6330/6330 [==============================] - 7s 1ms/sample - loss: 0.0555 - categorical_accuracy: 0.9815 - val_loss: 0.4336 - val_categorical_accuracy: 0.9324\n",
      "Epoch 94/100\n"
     ]
    },
    {
     "name": "stdout",
     "output_type": "stream",
     "text": [
      "6330/6330 [==============================] - 8s 1ms/sample - loss: 0.0380 - categorical_accuracy: 0.9870 - val_loss: 0.4249 - val_categorical_accuracy: 0.9327\n",
      "Epoch 95/100\n",
      "6330/6330 [==============================] - 7s 1ms/sample - loss: 0.0377 - categorical_accuracy: 0.9864 - val_loss: 0.3733 - val_categorical_accuracy: 0.9299\n",
      "Epoch 96/100\n",
      "6330/6330 [==============================] - 7s 1ms/sample - loss: 0.0514 - categorical_accuracy: 0.9828 - val_loss: 0.4160 - val_categorical_accuracy: 0.9138\n",
      "Epoch 97/100\n",
      "6330/6330 [==============================] - 7s 1ms/sample - loss: 0.0754 - categorical_accuracy: 0.9739 - val_loss: 0.6147 - val_categorical_accuracy: 0.8840\n",
      "Epoch 98/100\n",
      "6330/6330 [==============================] - 7s 1ms/sample - loss: 0.0555 - categorical_accuracy: 0.9821 - val_loss: 0.4903 - val_categorical_accuracy: 0.9182\n",
      "Epoch 99/100\n",
      "6330/6330 [==============================] - 7s 1ms/sample - loss: 0.0696 - categorical_accuracy: 0.9771 - val_loss: 0.5034 - val_categorical_accuracy: 0.8896\n",
      "Epoch 100/100\n",
      "6330/6330 [==============================] - 7s 1ms/sample - loss: 0.0615 - categorical_accuracy: 0.9798 - val_loss: 0.4230 - val_categorical_accuracy: 0.9182\n"
     ]
    },
    {
     "data": {
      "text/plain": [
       "<tensorflow.python.keras.callbacks.History at 0x12bc1d390>"
      ]
     },
     "execution_count": 18,
     "metadata": {},
     "output_type": "execute_result"
    }
   ],
   "source": [
    "model.fit(digitos, digitos_categoricos, validation_split=prop_validacao_digitos, epochs=100, callbacks=[get_tboard(0)])"
   ]
  },
  {
   "cell_type": "code",
   "execution_count": 19,
   "metadata": {},
   "outputs": [],
   "source": [
    "testpath = \"../data/testing/\"\n",
    "testdigitos = []\n",
    "testlabel_digitos = []\n",
    "testcaracteres = []\n",
    "testlabel_caracteres=[]\n",
    "\n",
    "# Considera apenas imagens corretas\n",
    "# Arquivos ._ não são imagens válidas, embora terminem com .png\n",
    "files = [f for f in os.listdir(testpath) if f.endswith(\".png\") and f.startswith(\"track\")]\n",
    "\n",
    "for arq in files:\n",
    "        \n",
    "    img = cv2.imread(testpath + arq, 0)\n",
    "    w, c, d = arq.split(\"-\")\n",
    "    if (d[0] == \"1\"):\n",
    "        testdigitos.append(img)\n",
    "        testlabel_digitos.append(int(chr(int(c))))\n",
    "        \n",
    "    elif (d[0] == \"0\"):\n",
    "        testcaracteres.append(img)\n",
    "        testlabel_caracteres.append(chr(int(c)))"
   ]
  },
  {
   "cell_type": "code",
   "execution_count": 20,
   "metadata": {},
   "outputs": [],
   "source": [
    "testdigitos = np.array([np.expand_dims(d, axis=2) for d in testdigitos])"
   ]
  },
  {
   "cell_type": "code",
   "execution_count": 38,
   "metadata": {},
   "outputs": [],
   "source": [
    "testcaracteres = np.array([np.expand_dims(c, axis=2) for c in testcaracteres])"
   ]
  },
  {
   "cell_type": "code",
   "execution_count": 21,
   "metadata": {},
   "outputs": [],
   "source": [
    "pred = model.predict(testdigitos)\n",
    "rpred = [np.argmax(i) for i in pred]"
   ]
  },
  {
   "cell_type": "code",
   "execution_count": 22,
   "metadata": {
    "scrolled": false
   },
   "outputs": [
    {
     "data": {
      "image/png": "[encoded data removed]",
      "text/plain": [
       "<Figure size 2160x864 with 2 Axes>"
      ]
     },
     "metadata": {
      "needs_background": "light"
     },
     "output_type": "display_data"
    }
   ],
   "source": [
    "matriz = confusion_matrix(testlabel_digitos, rpred)\n",
    "plot_confusion_matrix(matriz, classes=[0, 1, 2, 3, 4, 5, 6, 7, 8, 9])"
   ]
  },
  {
   "cell_type": "code",
   "execution_count": 23,
   "metadata": {},
   "outputs": [
    {
     "data": {
      "text/plain": [
       "0.9234108527131782"
      ]
     },
     "execution_count": 23,
     "metadata": {},
     "output_type": "execute_result"
    }
   ],
   "source": [
    "accuracy_score(testlabel_digitos, rpred)"
   ]
  },
  {
   "cell_type": "markdown",
   "metadata": {},
   "source": [
    "## CNN - Caracteres"
   ]
  },
  {
   "cell_type": "code",
   "execution_count": 33,
   "metadata": {},
   "outputs": [],
   "source": [
    "model2 = Sequential()\n",
    "model2.add(Conv2D(64, (3,3), input_shape=(20, 20, 1)))\n",
    "model2.add(MaxPooling2D((2,2)))\n",
    "model2.add(Flatten())\n",
    "\n",
    "model2.add(Dense(256, activation=\"sigmoid\"))\n",
    "model2.add(Dense(512, activation=\"relu\"))\n",
    "model2.add(Dense(256, activation=\"sigmoid\"))\n",
    "model2.add(Dense(512, activation=\"relu\"))\n",
    "model2.add(Dense(26, activation=\"softmax\"))\n",
    "\n",
    "model2.compile(optimizer=\"adam\",\n",
    "              metrics=[\"categorical_accuracy\"],\n",
    "              loss=\"categorical_crossentropy\")"
   ]
  },
  {
   "cell_type": "code",
   "execution_count": 34,
   "metadata": {},
   "outputs": [
    {
     "name": "stdout",
     "output_type": "stream",
     "text": [
      "Train on 5130 samples, validate on 2550 samples\n",
      "Epoch 1/100\n",
      "5130/5130 [==============================] - 6s 1ms/sample - loss: 2.2357 - categorical_accuracy: 0.3715 - val_loss: 1.8283 - val_categorical_accuracy: 0.5008\n",
      "Epoch 2/100\n",
      "5130/5130 [==============================] - 6s 1ms/sample - loss: 1.1768 - categorical_accuracy: 0.6331 - val_loss: 1.2835 - val_categorical_accuracy: 0.6769\n",
      "Epoch 3/100\n",
      "5130/5130 [==============================] - 5s 1ms/sample - loss: 0.5632 - categorical_accuracy: 0.8172 - val_loss: 1.2185 - val_categorical_accuracy: 0.7161\n",
      "Epoch 4/100\n",
      "5130/5130 [==============================] - 6s 1ms/sample - loss: 0.3948 - categorical_accuracy: 0.8602 - val_loss: 1.2754 - val_categorical_accuracy: 0.7518\n",
      "Epoch 5/100\n",
      "5130/5130 [==============================] - 6s 1ms/sample - loss: 0.3173 - categorical_accuracy: 0.8867 - val_loss: 1.5841 - val_categorical_accuracy: 0.7294\n",
      "Epoch 6/100\n",
      "5130/5130 [==============================] - 6s 1ms/sample - loss: 0.3820 - categorical_accuracy: 0.8626 - val_loss: 1.3980 - val_categorical_accuracy: 0.7675\n",
      "Epoch 7/100\n",
      "5130/5130 [==============================] - 6s 1ms/sample - loss: 0.2273 - categorical_accuracy: 0.9195 - val_loss: 1.4724 - val_categorical_accuracy: 0.7678\n",
      "Epoch 8/100\n",
      "5130/5130 [==============================] - 6s 1ms/sample - loss: 0.2258 - categorical_accuracy: 0.9166 - val_loss: 1.6248 - val_categorical_accuracy: 0.7620\n",
      "Epoch 9/100\n",
      "5130/5130 [==============================] - 6s 1ms/sample - loss: 0.1964 - categorical_accuracy: 0.9251 - val_loss: 1.7247 - val_categorical_accuracy: 0.7529\n",
      "Epoch 10/100\n",
      "5130/5130 [==============================] - 6s 1ms/sample - loss: 0.1785 - categorical_accuracy: 0.9314 - val_loss: 1.7403 - val_categorical_accuracy: 0.7620\n",
      "Epoch 11/100\n",
      "5130/5130 [==============================] - 6s 1ms/sample - loss: 0.1944 - categorical_accuracy: 0.9236 - val_loss: 1.8216 - val_categorical_accuracy: 0.7537\n",
      "Epoch 12/100\n",
      "5130/5130 [==============================] - 6s 1ms/sample - loss: 0.2116 - categorical_accuracy: 0.9203 - val_loss: 1.6844 - val_categorical_accuracy: 0.7635\n",
      "Epoch 13/100\n",
      "5130/5130 [==============================] - 6s 1ms/sample - loss: 0.1421 - categorical_accuracy: 0.9454 - val_loss: 1.6411 - val_categorical_accuracy: 0.7878\n",
      "Epoch 14/100\n",
      "5130/5130 [==============================] - 6s 1ms/sample - loss: 0.1154 - categorical_accuracy: 0.9550 - val_loss: 1.7303 - val_categorical_accuracy: 0.7769\n",
      "Epoch 15/100\n",
      "5130/5130 [==============================] - 6s 1ms/sample - loss: 0.1135 - categorical_accuracy: 0.9548 - val_loss: 1.6719 - val_categorical_accuracy: 0.8031\n",
      "Epoch 16/100\n",
      "5130/5130 [==============================] - 6s 1ms/sample - loss: 0.1658 - categorical_accuracy: 0.9409 - val_loss: 1.6995 - val_categorical_accuracy: 0.7796\n",
      "Epoch 17/100\n",
      "5130/5130 [==============================] - 6s 1ms/sample - loss: 0.1703 - categorical_accuracy: 0.9376 - val_loss: 1.7137 - val_categorical_accuracy: 0.7843\n",
      "Epoch 18/100\n",
      "5130/5130 [==============================] - 6s 1ms/sample - loss: 0.2025 - categorical_accuracy: 0.9250 - val_loss: 1.7076 - val_categorical_accuracy: 0.7816\n",
      "Epoch 19/100\n",
      "5130/5130 [==============================] - 6s 1ms/sample - loss: 0.1723 - categorical_accuracy: 0.9320 - val_loss: 1.6499 - val_categorical_accuracy: 0.7878\n",
      "Epoch 20/100\n",
      "5130/5130 [==============================] - 6s 1ms/sample - loss: 0.1379 - categorical_accuracy: 0.9474 - val_loss: 1.7829 - val_categorical_accuracy: 0.7851\n",
      "Epoch 21/100\n",
      "5130/5130 [==============================] - 6s 1ms/sample - loss: 0.1047 - categorical_accuracy: 0.9612 - val_loss: 1.6899 - val_categorical_accuracy: 0.7984\n",
      "Epoch 22/100\n",
      "5130/5130 [==============================] - 6s 1ms/sample - loss: 0.1036 - categorical_accuracy: 0.9600 - val_loss: 1.6711 - val_categorical_accuracy: 0.7878\n",
      "Epoch 23/100\n",
      "5130/5130 [==============================] - 6s 1ms/sample - loss: 0.1004 - categorical_accuracy: 0.9604 - val_loss: 1.7017 - val_categorical_accuracy: 0.7906\n",
      "Epoch 24/100\n",
      "5130/5130 [==============================] - 6s 1ms/sample - loss: 0.0780 - categorical_accuracy: 0.9680 - val_loss: 1.7644 - val_categorical_accuracy: 0.7918\n",
      "Epoch 25/100\n",
      "5130/5130 [==============================] - 6s 1ms/sample - loss: 0.1031 - categorical_accuracy: 0.9624 - val_loss: 1.6646 - val_categorical_accuracy: 0.7749\n",
      "Epoch 26/100\n",
      "5130/5130 [==============================] - 6s 1ms/sample - loss: 0.1795 - categorical_accuracy: 0.9349 - val_loss: 1.8554 - val_categorical_accuracy: 0.7596\n",
      "Epoch 27/100\n",
      "5130/5130 [==============================] - 6s 1ms/sample - loss: 0.1435 - categorical_accuracy: 0.9481 - val_loss: 1.6171 - val_categorical_accuracy: 0.7804\n",
      "Epoch 28/100\n",
      "5130/5130 [==============================] - 6s 1ms/sample - loss: 0.1472 - categorical_accuracy: 0.9448 - val_loss: 1.6048 - val_categorical_accuracy: 0.7757\n",
      "Epoch 29/100\n",
      "5130/5130 [==============================] - 6s 1ms/sample - loss: 0.2152 - categorical_accuracy: 0.9234 - val_loss: 1.7839 - val_categorical_accuracy: 0.7447\n",
      "Epoch 30/100\n",
      "5130/5130 [==============================] - 6s 1ms/sample - loss: 0.2152 - categorical_accuracy: 0.9226 - val_loss: 1.7414 - val_categorical_accuracy: 0.7541\n",
      "Epoch 31/100\n",
      "5130/5130 [==============================] - 6s 1ms/sample - loss: 0.2117 - categorical_accuracy: 0.9224 - val_loss: 1.6972 - val_categorical_accuracy: 0.7337\n",
      "Epoch 32/100\n",
      "5130/5130 [==============================] - 6s 1ms/sample - loss: 0.2065 - categorical_accuracy: 0.9238 - val_loss: 1.6134 - val_categorical_accuracy: 0.8090\n",
      "Epoch 33/100\n",
      "5130/5130 [==============================] - 6s 1ms/sample - loss: 0.1070 - categorical_accuracy: 0.9598 - val_loss: 1.6596 - val_categorical_accuracy: 0.8102\n",
      "Epoch 34/100\n",
      "5130/5130 [==============================] - 7s 1ms/sample - loss: 0.1121 - categorical_accuracy: 0.9575 - val_loss: 1.6948 - val_categorical_accuracy: 0.7988\n",
      "Epoch 35/100\n",
      "5130/5130 [==============================] - 6s 1ms/sample - loss: 0.0911 - categorical_accuracy: 0.9657 - val_loss: 1.6520 - val_categorical_accuracy: 0.8047\n",
      "Epoch 36/100\n",
      "5130/5130 [==============================] - 6s 1ms/sample - loss: 0.0893 - categorical_accuracy: 0.9657 - val_loss: 1.8043 - val_categorical_accuracy: 0.7898\n",
      "Epoch 37/100\n",
      "5130/5130 [==============================] - 6s 1ms/sample - loss: 0.1030 - categorical_accuracy: 0.9589 - val_loss: 1.8419 - val_categorical_accuracy: 0.7761\n",
      "Epoch 38/100\n",
      "5130/5130 [==============================] - 6s 1ms/sample - loss: 0.0985 - categorical_accuracy: 0.9661 - val_loss: 1.8323 - val_categorical_accuracy: 0.7820\n",
      "Epoch 39/100\n",
      "5130/5130 [==============================] - 6s 1ms/sample - loss: 0.0856 - categorical_accuracy: 0.9674 - val_loss: 1.7759 - val_categorical_accuracy: 0.7965\n",
      "Epoch 40/100\n",
      "5130/5130 [==============================] - 6s 1ms/sample - loss: 0.0811 - categorical_accuracy: 0.9655 - val_loss: 1.7326 - val_categorical_accuracy: 0.8031\n",
      "Epoch 41/100\n",
      "5130/5130 [==============================] - 6s 1ms/sample - loss: 0.0896 - categorical_accuracy: 0.9661 - val_loss: 1.7421 - val_categorical_accuracy: 0.7973\n",
      "Epoch 42/100\n",
      "5130/5130 [==============================] - 7s 1ms/sample - loss: 0.0897 - categorical_accuracy: 0.9651 - val_loss: 1.8499 - val_categorical_accuracy: 0.7890\n",
      "Epoch 43/100\n",
      "5130/5130 [==============================] - 6s 1ms/sample - loss: 0.0920 - categorical_accuracy: 0.9635 - val_loss: 1.7380 - val_categorical_accuracy: 0.7894\n",
      "Epoch 44/100\n",
      "5130/5130 [==============================] - 7s 1ms/sample - loss: 0.0892 - categorical_accuracy: 0.9635 - val_loss: 1.7070 - val_categorical_accuracy: 0.7882\n",
      "Epoch 45/100\n",
      "5130/5130 [==============================] - 7s 1ms/sample - loss: 0.0987 - categorical_accuracy: 0.9620 - val_loss: 1.7191 - val_categorical_accuracy: 0.7863\n",
      "Epoch 46/100\n",
      "5130/5130 [==============================] - 8s 2ms/sample - loss: 0.0896 - categorical_accuracy: 0.9680 - val_loss: 1.6918 - val_categorical_accuracy: 0.7976\n",
      "Epoch 47/100\n",
      "5130/5130 [==============================] - 6s 1ms/sample - loss: 0.0911 - categorical_accuracy: 0.9657 - val_loss: 1.6983 - val_categorical_accuracy: 0.7914\n",
      "Epoch 48/100\n"
     ]
    },
    {
     "name": "stdout",
     "output_type": "stream",
     "text": [
      "5130/5130 [==============================] - 6s 1ms/sample - loss: 0.0845 - categorical_accuracy: 0.9698 - val_loss: 1.6255 - val_categorical_accuracy: 0.8098\n",
      "Epoch 49/100\n",
      "5130/5130 [==============================] - 6s 1ms/sample - loss: 0.0972 - categorical_accuracy: 0.9630 - val_loss: 1.7155 - val_categorical_accuracy: 0.7949\n",
      "Epoch 50/100\n",
      "5130/5130 [==============================] - 6s 1ms/sample - loss: 0.0992 - categorical_accuracy: 0.9602 - val_loss: 1.6624 - val_categorical_accuracy: 0.8035\n",
      "Epoch 51/100\n",
      "5130/5130 [==============================] - 6s 1ms/sample - loss: 0.0936 - categorical_accuracy: 0.9635 - val_loss: 1.7120 - val_categorical_accuracy: 0.7961\n",
      "Epoch 52/100\n",
      "5130/5130 [==============================] - 6s 1ms/sample - loss: 0.0948 - categorical_accuracy: 0.9632 - val_loss: 1.7376 - val_categorical_accuracy: 0.7812\n",
      "Epoch 53/100\n",
      "5130/5130 [==============================] - 7s 1ms/sample - loss: 0.1209 - categorical_accuracy: 0.9548 - val_loss: 1.8005 - val_categorical_accuracy: 0.7898\n",
      "Epoch 54/100\n",
      "5130/5130 [==============================] - 7s 1ms/sample - loss: 0.1021 - categorical_accuracy: 0.9604 - val_loss: 1.9457 - val_categorical_accuracy: 0.7678\n",
      "Epoch 55/100\n",
      "5130/5130 [==============================] - 6s 1ms/sample - loss: 0.1175 - categorical_accuracy: 0.9538 - val_loss: 1.8583 - val_categorical_accuracy: 0.7588\n",
      "Epoch 56/100\n",
      "5130/5130 [==============================] - 7s 1ms/sample - loss: 0.1101 - categorical_accuracy: 0.9575 - val_loss: 1.7829 - val_categorical_accuracy: 0.7894\n",
      "Epoch 57/100\n",
      "5130/5130 [==============================] - 7s 1ms/sample - loss: 0.1170 - categorical_accuracy: 0.9567 - val_loss: 1.6926 - val_categorical_accuracy: 0.7937\n",
      "Epoch 58/100\n",
      "5130/5130 [==============================] - 6s 1ms/sample - loss: 0.1139 - categorical_accuracy: 0.9552 - val_loss: 1.7389 - val_categorical_accuracy: 0.8035\n",
      "Epoch 59/100\n",
      "5130/5130 [==============================] - 6s 1ms/sample - loss: 0.0985 - categorical_accuracy: 0.9622 - val_loss: 1.7618 - val_categorical_accuracy: 0.7929\n",
      "Epoch 60/100\n",
      "5130/5130 [==============================] - 7s 1ms/sample - loss: 0.0820 - categorical_accuracy: 0.9688 - val_loss: 1.8454 - val_categorical_accuracy: 0.7796\n",
      "Epoch 61/100\n",
      "5130/5130 [==============================] - 7s 1ms/sample - loss: 0.0764 - categorical_accuracy: 0.9682 - val_loss: 1.8509 - val_categorical_accuracy: 0.7906\n",
      "Epoch 62/100\n",
      "5130/5130 [==============================] - 7s 1ms/sample - loss: 0.0992 - categorical_accuracy: 0.9610 - val_loss: 1.8631 - val_categorical_accuracy: 0.7886\n",
      "Epoch 63/100\n",
      "5130/5130 [==============================] - 6s 1ms/sample - loss: 0.0828 - categorical_accuracy: 0.9676 - val_loss: 1.9349 - val_categorical_accuracy: 0.7769\n",
      "Epoch 64/100\n",
      "5130/5130 [==============================] - 6s 1ms/sample - loss: 0.1087 - categorical_accuracy: 0.9595 - val_loss: 1.8031 - val_categorical_accuracy: 0.7886\n",
      "Epoch 65/100\n",
      "5130/5130 [==============================] - 6s 1ms/sample - loss: 0.0959 - categorical_accuracy: 0.9632 - val_loss: 1.8441 - val_categorical_accuracy: 0.7761\n",
      "Epoch 66/100\n",
      "5130/5130 [==============================] - 6s 1ms/sample - loss: 0.1150 - categorical_accuracy: 0.9558 - val_loss: 1.9333 - val_categorical_accuracy: 0.7612\n",
      "Epoch 67/100\n",
      "5130/5130 [==============================] - 6s 1ms/sample - loss: 0.0979 - categorical_accuracy: 0.9618 - val_loss: 1.7762 - val_categorical_accuracy: 0.7890\n",
      "Epoch 68/100\n",
      "5130/5130 [==============================] - 6s 1ms/sample - loss: 0.1056 - categorical_accuracy: 0.9589 - val_loss: 1.9226 - val_categorical_accuracy: 0.7722\n",
      "Epoch 69/100\n",
      "5130/5130 [==============================] - 6s 1ms/sample - loss: 0.1040 - categorical_accuracy: 0.9585 - val_loss: 1.8244 - val_categorical_accuracy: 0.7851\n",
      "Epoch 70/100\n",
      "5130/5130 [==============================] - 6s 1ms/sample - loss: 0.0904 - categorical_accuracy: 0.9622 - val_loss: 1.9264 - val_categorical_accuracy: 0.7733\n",
      "Epoch 71/100\n",
      "5130/5130 [==============================] - 6s 1ms/sample - loss: 0.1082 - categorical_accuracy: 0.9581 - val_loss: 1.8148 - val_categorical_accuracy: 0.7851\n",
      "Epoch 72/100\n",
      "5130/5130 [==============================] - 6s 1ms/sample - loss: 0.0936 - categorical_accuracy: 0.9645 - val_loss: 1.8711 - val_categorical_accuracy: 0.7792\n",
      "Epoch 73/100\n",
      "5130/5130 [==============================] - 6s 1ms/sample - loss: 0.0900 - categorical_accuracy: 0.9639 - val_loss: 1.8930 - val_categorical_accuracy: 0.7686\n",
      "Epoch 74/100\n",
      "5130/5130 [==============================] - 6s 1ms/sample - loss: 0.1000 - categorical_accuracy: 0.9587 - val_loss: 1.8156 - val_categorical_accuracy: 0.7722\n",
      "Epoch 75/100\n",
      "5130/5130 [==============================] - 6s 1ms/sample - loss: 0.1027 - categorical_accuracy: 0.9569 - val_loss: 1.8642 - val_categorical_accuracy: 0.7733\n",
      "Epoch 76/100\n",
      "5130/5130 [==============================] - 6s 1ms/sample - loss: 0.1126 - categorical_accuracy: 0.9595 - val_loss: 1.6379 - val_categorical_accuracy: 0.7969\n",
      "Epoch 77/100\n",
      "5130/5130 [==============================] - 6s 1ms/sample - loss: 0.0860 - categorical_accuracy: 0.9671 - val_loss: 1.7771 - val_categorical_accuracy: 0.7749\n",
      "Epoch 78/100\n",
      "5130/5130 [==============================] - 6s 1ms/sample - loss: 0.0943 - categorical_accuracy: 0.9659 - val_loss: 1.7240 - val_categorical_accuracy: 0.7898\n",
      "Epoch 79/100\n",
      "5130/5130 [==============================] - 7s 1ms/sample - loss: 0.0978 - categorical_accuracy: 0.9598 - val_loss: 1.8207 - val_categorical_accuracy: 0.7796\n",
      "Epoch 80/100\n",
      "5130/5130 [==============================] - 7s 1ms/sample - loss: 0.0804 - categorical_accuracy: 0.9682 - val_loss: 1.7243 - val_categorical_accuracy: 0.8075\n",
      "Epoch 81/100\n",
      "5130/5130 [==============================] - 7s 1ms/sample - loss: 0.0808 - categorical_accuracy: 0.9682 - val_loss: 1.9187 - val_categorical_accuracy: 0.7745\n",
      "Epoch 82/100\n",
      "5130/5130 [==============================] - 6s 1ms/sample - loss: 0.1010 - categorical_accuracy: 0.9579 - val_loss: 1.8081 - val_categorical_accuracy: 0.7769\n",
      "Epoch 83/100\n",
      "5130/5130 [==============================] - 6s 1ms/sample - loss: 0.1373 - categorical_accuracy: 0.9433 - val_loss: 1.8582 - val_categorical_accuracy: 0.7627\n",
      "Epoch 84/100\n",
      "5130/5130 [==============================] - 6s 1ms/sample - loss: 0.1327 - categorical_accuracy: 0.9491 - val_loss: 1.6538 - val_categorical_accuracy: 0.8020\n",
      "Epoch 85/100\n",
      "5130/5130 [==============================] - 6s 1ms/sample - loss: 0.1553 - categorical_accuracy: 0.9435 - val_loss: 1.7890 - val_categorical_accuracy: 0.7643\n",
      "Epoch 86/100\n",
      "5130/5130 [==============================] - 7s 1ms/sample - loss: 0.1675 - categorical_accuracy: 0.9378 - val_loss: 1.7750 - val_categorical_accuracy: 0.7804\n",
      "Epoch 87/100\n",
      "5130/5130 [==============================] - 8s 2ms/sample - loss: 0.1327 - categorical_accuracy: 0.9536 - val_loss: 1.8712 - val_categorical_accuracy: 0.7631\n",
      "Epoch 88/100\n",
      "5130/5130 [==============================] - 6s 1ms/sample - loss: 0.1547 - categorical_accuracy: 0.9460 - val_loss: 1.8360 - val_categorical_accuracy: 0.7686\n",
      "Epoch 89/100\n",
      "5130/5130 [==============================] - 6s 1ms/sample - loss: 0.1437 - categorical_accuracy: 0.9394 - val_loss: 1.7175 - val_categorical_accuracy: 0.7827\n",
      "Epoch 90/100\n",
      "5130/5130 [==============================] - 6s 1ms/sample - loss: 0.1213 - categorical_accuracy: 0.9505 - val_loss: 1.8847 - val_categorical_accuracy: 0.7565\n",
      "Epoch 91/100\n",
      "5130/5130 [==============================] - 6s 1ms/sample - loss: 0.1287 - categorical_accuracy: 0.9507 - val_loss: 1.7583 - val_categorical_accuracy: 0.7894\n",
      "Epoch 92/100\n",
      "5130/5130 [==============================] - 6s 1ms/sample - loss: 0.1248 - categorical_accuracy: 0.9528 - val_loss: 1.7373 - val_categorical_accuracy: 0.7682\n",
      "Epoch 93/100\n",
      "5130/5130 [==============================] - 6s 1ms/sample - loss: 0.1297 - categorical_accuracy: 0.9526 - val_loss: 1.7733 - val_categorical_accuracy: 0.7718\n",
      "Epoch 94/100\n",
      "5130/5130 [==============================] - 6s 1ms/sample - loss: 0.1213 - categorical_accuracy: 0.9554 - val_loss: 1.7736 - val_categorical_accuracy: 0.7667\n",
      "Epoch 95/100\n",
      "5130/5130 [==============================] - 6s 1ms/sample - loss: 0.1362 - categorical_accuracy: 0.9507 - val_loss: 1.8868 - val_categorical_accuracy: 0.7612\n"
     ]
    },
    {
     "name": "stdout",
     "output_type": "stream",
     "text": [
      "Epoch 96/100\n",
      "5130/5130 [==============================] - 6s 1ms/sample - loss: 0.1013 - categorical_accuracy: 0.9596 - val_loss: 2.0562 - val_categorical_accuracy: 0.7584\n",
      "Epoch 97/100\n",
      "5130/5130 [==============================] - 6s 1ms/sample - loss: 0.1075 - categorical_accuracy: 0.9591 - val_loss: 1.8746 - val_categorical_accuracy: 0.7831\n",
      "Epoch 98/100\n",
      "5130/5130 [==============================] - 6s 1ms/sample - loss: 0.0994 - categorical_accuracy: 0.9616 - val_loss: 1.8724 - val_categorical_accuracy: 0.7769\n",
      "Epoch 99/100\n",
      "5130/5130 [==============================] - 6s 1ms/sample - loss: 0.0935 - categorical_accuracy: 0.9616 - val_loss: 1.8835 - val_categorical_accuracy: 0.7702\n",
      "Epoch 100/100\n",
      "5130/5130 [==============================] - 6s 1ms/sample - loss: 0.0983 - categorical_accuracy: 0.9598 - val_loss: 1.9048 - val_categorical_accuracy: 0.7816\n"
     ]
    },
    {
     "data": {
      "text/plain": [
       "<tensorflow.python.keras.callbacks.History at 0x12e9e82e8>"
      ]
     },
     "execution_count": 34,
     "metadata": {},
     "output_type": "execute_result"
    }
   ],
   "source": [
    "model2.fit(caracteres, caracteres_categoricos,\n",
    "           validation_split=prop_validacao_caracteres, epochs=100,\n",
    "           callbacks=[get_tboard(1)])"
   ]
  },
  {
   "cell_type": "code",
   "execution_count": 39,
   "metadata": {},
   "outputs": [],
   "source": [
    "pred_c = model2.predict(testcaracteres)\n",
    "rpred_c = [chr(np.argmax(i) + 65) for i in pred_c]"
   ]
  },
  {
   "cell_type": "code",
   "execution_count": 40,
   "metadata": {},
   "outputs": [
    {
     "data": {
      "image/png": "[encoded data removed]",
      "text/plain": [
       "<Figure size 2160x864 with 2 Axes>"
      ]
     },
     "metadata": {
      "needs_background": "light"
     },
     "output_type": "display_data"
    }
   ],
   "source": [
    "matriz = confusion_matrix(testlabel_caracteres, rpred_c)\n",
    "plot_confusion_matrix(matriz, classes=[chr(i) for i in range(65, 65+26)])"
   ]
  },
  {
   "cell_type": "code",
   "execution_count": 41,
   "metadata": {},
   "outputs": [
    {
     "data": {
      "text/plain": [
       "0.8298651252408478"
      ]
     },
     "execution_count": 41,
     "metadata": {},
     "output_type": "execute_result"
    }
   ],
   "source": [
    "accuracy_score(testlabel_caracteres, rpred_c)"
   ]
  },
  {
   "cell_type": "code",
   "execution_count": null,
   "metadata": {},
   "outputs": [],
   "source": []
  }
 ],
 "metadata": {
  "kernelspec": {
   "display_name": "Python [conda env:alpr] *",
   "language": "python",
   "name": "conda-env-alpr-py"
  },
  "language_info": {
   "codemirror_mode": {
    "name": "ipython",
    "version": 3
   },
   "file_extension": ".py",
   "mimetype": "text/x-python",
   "name": "python",
   "nbconvert_exporter": "python",
   "pygments_lexer": "ipython3",
   "version": "3.6.8"
  }
 },
 "nbformat": 4,
 "nbformat_minor": 2
}
